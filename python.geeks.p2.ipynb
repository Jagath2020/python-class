{
 "cells": [
  {
   "cell_type": "code",
   "execution_count": 1,
   "id": "8e2db488",
   "metadata": {},
   "outputs": [
    {
     "name": "stdout",
     "output_type": "stream",
     "text": [
      "21 45 93 "
     ]
    }
   ],
   "source": [
    "#prg24#method1\n",
    "#list odd num\n",
    "list1 = [10, 21, 4, 45, 66, 93]\n",
    "for i in list1:\n",
    "    if i%2==1:\n",
    "        print(i,end=\" \")\n"
   ]
  },
  {
   "cell_type": "code",
   "execution_count": null,
   "id": "034009b4",
   "metadata": {},
   "outputs": [],
   "source": [
    "# method2\n",
    "list1 = [10, 21, 4, 45, 66, 93]\n",
    "i = 0\n",
    "# using while loop        \n",
    "while(i < len(list1)):\n",
    "    if list1[i] % 2 != 0:\n",
    "        print(list1[i], end = \" \")\n",
    "    i += 1\n"
   ]
  },
  {
   "cell_type": "code",
   "execution_count": 5,
   "id": "7c613813",
   "metadata": {},
   "outputs": [
    {
     "name": "stdout",
     "output_type": "stream",
     "text": [
      "[21, 45, 93]\n"
     ]
    }
   ],
   "source": [
    "#method3\n",
    "list1= [10,21,4,45,66,93]\n",
    "odd1 =[num for num in list1 if num%2==1]\n",
    "print(odd1)"
   ]
  },
  {
   "cell_type": "code",
   "execution_count": 1,
   "id": "228fe210",
   "metadata": {},
   "outputs": [
    {
     "name": "stdout",
     "output_type": "stream",
     "text": [
      "3 5 7 9 "
     ]
    }
   ],
   "source": [
    "#prg25#method1 \n",
    "#list odd num using range\n",
    "start,end = 2,10\n",
    "for i in range(start,end):\n",
    "    if i%2==1:\n",
    "        print(i,end=\" \")\n"
   ]
  },
  {
   "cell_type": "code",
   "execution_count": 6,
   "id": "3ae4c869",
   "metadata": {},
   "outputs": [
    {
     "name": "stdout",
     "output_type": "stream",
     "text": [
      "Enter the start of range: 2\n",
      "Enter the end of range: 9\n",
      "3 5 7 9 "
     ]
    }
   ],
   "source": [
    "#method2\n",
    "start = int(input(\"Enter the start of range: \"))\n",
    "end = int(input(\"Enter the end of range: \"))\n",
    "\n",
    "for num in range(start, end + 1):\n",
    "    if num % 2 != 0:\n",
    "        print(num, end = \" \")\n",
    "\n",
    "\n"
   ]
  },
  {
   "cell_type": "code",
   "execution_count": 7,
   "id": "1be16090",
   "metadata": {},
   "outputs": [
    {
     "name": "stdout",
     "output_type": "stream",
     "text": [
      "Enter the start of range: 3\n",
      "Enter the end of range: 20\n",
      "4 6 8 10 12 14 16 18 20 "
     ]
    }
   ],
   "source": [
    "#method3\n",
    "start = int(input(\"Enter the start of range: \"))\n",
    "end = int(input(\"Enter the end of range: \"))\n",
    "  \n",
    "#create a list that contains only Even numbers in given range\n",
    "even_list = range(start, end + 1)[start%2::2]#the remainder0 and it will print odd at interval2\n",
    "  \n",
    "for num in even_list:\n",
    "    print(num, end = \" \")\n",
    "\n"
   ]
  },
  {
   "cell_type": "code",
   "execution_count": 1,
   "id": "09945297",
   "metadata": {},
   "outputs": [
    {
     "name": "stdout",
     "output_type": "stream",
     "text": [
      "2 4 6 8 "
     ]
    }
   ],
   "source": [
    "#prg26#method1\n",
    "#list even num using range\n",
    "start,end = 2,10\n",
    "for i in range(start,end):\n",
    "    if i%2==0:\n",
    "        print(i,end=\" \")\n"
   ]
  },
  {
   "cell_type": "code",
   "execution_count": 2,
   "id": "718311d5",
   "metadata": {},
   "outputs": [
    {
     "name": "stdout",
     "output_type": "stream",
     "text": [
      "Enter the start of range: 4\n",
      "Enter the end of range: 16\n",
      "4 6 8 10 12 14 16 "
     ]
    }
   ],
   "source": [
    "#method2#even no range input method\n",
    "start = int(input(\"Enter the start of range: \"))\n",
    "end = int(input(\"Enter the end of range: \"))\n",
    "\n",
    "for num in range(start, end + 1):\n",
    "    if num % 2 == 0:\n",
    "        print(num, end = \" \")\n"
   ]
  },
  {
   "cell_type": "code",
   "execution_count": 5,
   "id": "b63daa04",
   "metadata": {},
   "outputs": [
    {
     "name": "stdout",
     "output_type": "stream",
     "text": [
      "11 0 45 66 "
     ]
    }
   ],
   "source": [
    "#prg27#find positive numbers method1\n",
    "list1 = [11, -21, 0, 45, 66, -93]\n",
    "for i in list1:\n",
    "    if i>=0:\n",
    "        print(i,end=' ')"
   ]
  },
  {
   "cell_type": "code",
   "execution_count": 1,
   "id": "ac53e7a7",
   "metadata": {},
   "outputs": [
    {
     "name": "stdout",
     "output_type": "stream",
     "text": [
      "11 0 45 66 "
     ]
    }
   ],
   "source": [
    "#method2\n",
    "i =0\n",
    "list1 = [11, -21, 0, 45, 66, -93]\n",
    "n = len(list1)\n",
    "while i<n:\n",
    "    if list1[i]>=0:\n",
    "        print(list1[i],end=' ')\n",
    "    i+=1\n",
    "\n",
    "\n"
   ]
  },
  {
   "cell_type": "code",
   "execution_count": 3,
   "id": "b7a64532",
   "metadata": {},
   "outputs": [
    {
     "name": "stdout",
     "output_type": "stream",
     "text": [
      "Positive numbers in the list:  [45, 93]\n"
     ]
    }
   ],
   "source": [
    "#method3\n",
    "list1 = [-10, -21, -4, 45, -66, 93]\n",
    "# using list comprehension\n",
    "pos_nos = [num for num in list1 if num >= 0]\n",
    "  \n",
    "print(\"Positive numbers in the list: \", pos_nos)\n",
    "\n"
   ]
  },
  {
   "cell_type": "code",
   "execution_count": 4,
   "id": "80f44c03",
   "metadata": {},
   "outputs": [
    {
     "name": "stdout",
     "output_type": "stream",
     "text": [
      "-21 -93 "
     ]
    }
   ],
   "source": [
    "#prg28#find negative numbers method1\n",
    "list1 = [11, -21, 0, 45, 66, -93]\n",
    "for i in list1:\n",
    "    if i<0:\n",
    "        print(i,end=' ')"
   ]
  },
  {
   "cell_type": "code",
   "execution_count": 5,
   "id": "a14e644f",
   "metadata": {},
   "outputs": [
    {
     "name": "stdout",
     "output_type": "stream",
     "text": [
      "-21 -93 "
     ]
    }
   ],
   "source": [
    "#method2\n",
    "i =0\n",
    "list1 = [11, -21, 0, 45, 66, -93]\n",
    "n = len(list1)\n",
    "while i<n:\n",
    "    if list1[i]<0:\n",
    "        print(list1[i],end=' ')\n",
    "    i+=1\n"
   ]
  },
  {
   "cell_type": "code",
   "execution_count": 6,
   "id": "a2507d75",
   "metadata": {},
   "outputs": [
    {
     "name": "stdout",
     "output_type": "stream",
     "text": [
      "Positive numbers in the list:  [-10, -21, -4, -66]\n"
     ]
    }
   ],
   "source": [
    "#method3\n",
    "list1 = [-10, -21, -4, 45, -66, 93]\n",
    "# using list comprehension\n",
    "pos_nos = [num for num in list1 if num <0]\n",
    "  \n",
    "print(\"Positive numbers in the list: \", pos_nos)\n",
    "\n"
   ]
  },
  {
   "cell_type": "code",
   "execution_count": 7,
   "id": "4976f2a5",
   "metadata": {},
   "outputs": [
    {
     "name": "stdout",
     "output_type": "stream",
     "text": [
      "0 1 2 3 4 5 6 7 8 9 10 "
     ]
    }
   ],
   "source": [
    "#prg28 #find positive no in range\n",
    "#method1\n",
    "start,end = -4,10\n",
    "for i in range(start,end+1):\n",
    "    if i>=0:\n",
    "        print(i, end =' ')"
   ]
  },
  {
   "cell_type": "code",
   "execution_count": 9,
   "id": "b47fccb8",
   "metadata": {},
   "outputs": [
    {
     "name": "stdout",
     "output_type": "stream",
     "text": [
      "enter the start no-5\n",
      "enter the end no5\n",
      "0 1 2 3 4 5 "
     ]
    }
   ],
   "source": [
    "#method2\n",
    "start = int(input(\"enter the start no\"))\n",
    "end = int(input(\"enter the end no\"))\n",
    "\n",
    "for i in range(start,end+1):\n",
    "    if i>=0:\n",
    "        print(i, end= ' ')\n",
    "\n"
   ]
  },
  {
   "cell_type": "code",
   "execution_count": 10,
   "id": "b0f8bded",
   "metadata": {},
   "outputs": [
    {
     "name": "stdout",
     "output_type": "stream",
     "text": [
      "-4 -3 -2 -1 "
     ]
    }
   ],
   "source": [
    "#prg29 #find positive no in range\n",
    "#method1\n",
    "start,end = -4,10\n",
    "for i in range(start,end+1):\n",
    "    if i<0:\n",
    "        print(i, end =' ')"
   ]
  },
  {
   "cell_type": "code",
   "execution_count": 11,
   "id": "532c77e4",
   "metadata": {},
   "outputs": [
    {
     "name": "stdout",
     "output_type": "stream",
     "text": [
      "enter the start no-5\n",
      "enter the end no5\n",
      "-5 -4 -3 -2 -1 "
     ]
    }
   ],
   "source": [
    "#method2\n",
    "start = int(input(\"enter the start no\"))\n",
    "end = int(input(\"enter the end no\"))\n",
    "\n",
    "for i in range(start,end+1):\n",
    "    if i<0:\n",
    "        print(i, end= ' ')\n"
   ]
  },
  {
   "cell_type": "code",
   "execution_count": 17,
   "id": "77fe8253",
   "metadata": {},
   "outputs": [
    {
     "name": "stdout",
     "output_type": "stream",
     "text": [
      "new list after removed element: [11, 5, 17, 23]\n"
     ]
    }
   ],
   "source": [
    "#prg30#method1\n",
    "# program to remove multiple\n",
    "list1 = [11, 5, 17, 18, 23, 50]#reove even no\n",
    "for i in list1:\n",
    "    if i%2==0:\n",
    "        list1.remove(i)\n",
    "print(\"new list after removed element:\",list1)\n"
   ]
  },
  {
   "cell_type": "code",
   "execution_count": 16,
   "id": "ebde1fa4",
   "metadata": {},
   "outputs": [
    {
     "name": "stdout",
     "output_type": "stream",
     "text": [
      "[11, 5, 17, 23]\n"
     ]
    }
   ],
   "source": [
    "#method2#list comprehension\n",
    "list1 = [11, 5, 17, 18, 23, 50]\n",
    "\n",
    "list1 = [elem for elem in list1 if elem%2!=0]\n",
    "print(list1)"
   ]
  },
  {
   "cell_type": "code",
   "execution_count": 19,
   "id": "2be573cc",
   "metadata": {},
   "outputs": [
    {
     "name": "stdout",
     "output_type": "stream",
     "text": [
      "the removed list using del [11, 50]\n"
     ]
    }
   ],
   "source": [
    "#method3 using del fun\n",
    "list1 = [11, 5, 17, 18, 23, 50]\n",
    "del list1[1:5]#index method\n",
    "print(\"the removed list using del\",list1)\n",
    "    "
   ]
  },
  {
   "cell_type": "code",
   "execution_count": 24,
   "id": "80fd5724",
   "metadata": {},
   "outputs": [
    {
     "name": "stdout",
     "output_type": "stream",
     "text": [
      "The original list is: [5, 6, [], 3, [], [], 9]\n",
      "[5, 6, 3, 9]\n"
     ]
    }
   ],
   "source": [
    " #prg31 #method1\n",
    "# Remove empty List from List\n",
    "# using list comprehension\n",
    "list1 = [5, 6, [], 3, [], [], 9]\n",
    "print(\"The original list is:\",list1)\n",
    " \n",
    "remove = [elem for elem in list1 if elem!=[]]\n",
    "print(remove)"
   ]
  },
  {
   "cell_type": "code",
   "execution_count": 26,
   "id": "424ee2a2",
   "metadata": {},
   "outputs": [
    {
     "name": "stdout",
     "output_type": "stream",
     "text": [
      "[5, 6, 3, 9]\n"
     ]
    }
   ],
   "source": [
    "#method2\n",
    "list1 = [5, 6, [], 3, [], [], 9]\n",
    "res = list(filter(None,list1))#that (None) removes the empty list\n",
    "print(res)\n"
   ]
  },
  {
   "cell_type": "code",
   "execution_count": 28,
   "id": "145810e8",
   "metadata": {},
   "outputs": [
    {
     "name": "stdout",
     "output_type": "stream",
     "text": [
      "Original List: [4, 8, 2, 10, 15, 18]\n",
      "After Cloning: [4, 8, 2, 10, 15, 18]\n"
     ]
    }
   ],
   "source": [
    "#prg32#cloning or copying\n",
    "#method1\n",
    "def cloning(li1):\n",
    "    li_copy= li1[:]\n",
    "    return li_copy\n",
    "\n",
    "li1 = [4, 8, 2, 10, 15, 18]\n",
    "print(\"Original List:\", li1)\n",
    "print(\"After Cloning:\",cloning(li1))\n"
   ]
  },
  {
   "cell_type": "code",
   "execution_count": 33,
   "id": "2c87795c",
   "metadata": {},
   "outputs": [
    {
     "name": "stdout",
     "output_type": "stream",
     "text": [
      "the copied list is [4, 8, 2, 10, 15, 18]\n"
     ]
    }
   ],
   "source": [
    "#method2 using copy#deep copy\n",
    "li1 = [4, 8, 2, 10, 15, 18]\n",
    "li2 = li1.copy()\n",
    "print(\"the copied list is\",li2)"
   ]
  },
  {
   "cell_type": "code",
   "execution_count": 35,
   "id": "3019f8d7",
   "metadata": {},
   "outputs": [
    {
     "name": "stdout",
     "output_type": "stream",
     "text": [
      "Original List: [4, 8, 2, 10, 15, 18]\n",
      "After Cloning: [4, 8, 2, 10, 15, 18]\n"
     ]
    }
   ],
   "source": [
    "#method3#using extend method\n",
    "def cloning(li1):\n",
    "    li_copy= []\n",
    "    li_copy.extend(li1)\n",
    "    return li_copy\n",
    "\n",
    "li1 = [4, 8, 2, 10, 15, 18]\n",
    "print(\"Original List:\", li1)\n",
    "print(\"After Cloning:\",cloning(li1))\n"
   ]
  },
  {
   "cell_type": "code",
   "execution_count": 36,
   "id": "d57e0510",
   "metadata": {},
   "outputs": [
    {
     "name": "stdout",
     "output_type": "stream",
     "text": [
      "Original List: [4, 8, 2, 10, 15, 18]\n",
      "After Cloning: [4, 8, 2, 10, 15, 18]\n"
     ]
    }
   ],
   "source": [
    "#method4#using list method\n",
    "def cloning(li1):\n",
    "    li_copy= list(li1)#shallow copy\n",
    "    return li_copy\n",
    "\n",
    "li1 = [4, 8, 2, 10, 15, 18]\n",
    "print(\"Original List:\", li1)\n",
    "print(\"After Cloning:\",cloning(li1))\n"
   ]
  },
  {
   "cell_type": "code",
   "execution_count": 39,
   "id": "ee44e981",
   "metadata": {},
   "outputs": [
    {
     "name": "stdout",
     "output_type": "stream",
     "text": [
      "Original List: [4, 8, 2, 10, 15, 18]\n",
      "After Cloning: [4, 8, 2, 10, 15, 18]\n"
     ]
    }
   ],
   "source": [
    "#method5\n",
    "def Cloning(li1):\n",
    "    li_copy =[]\n",
    "    for i in li1:\n",
    "        li_copy.append(i)\n",
    "    return li_copy\n",
    "li1 = [4, 8, 2, 10, 15, 18]\n",
    "print(\"Original List:\", li1)\n",
    "print(\"After Cloning:\",cloning(li1))\n",
    "  \n"
   ]
  },
  {
   "cell_type": "code",
   "execution_count": 41,
   "id": "33a8570d",
   "metadata": {},
   "outputs": [
    {
     "name": "stdout",
     "output_type": "stream",
     "text": [
      "the count of no.8 is: 5\n"
     ]
    }
   ],
   "source": [
    "#prg33#method1\n",
    "# count the number of occurrences\n",
    "def count1(lst,x):\n",
    "    count=0\n",
    "    for i in lst:\n",
    "        if i==x:\n",
    "            count = count+1\n",
    "    return count    \n",
    "lst = [8, 6, 8, 10, 8, 20, 10, 8, 8]\n",
    "x = 8\n",
    "print(\"the count of no.8 is:\",count1(lst,8))"
   ]
  },
  {
   "cell_type": "code",
   "execution_count": 43,
   "id": "d15c0871",
   "metadata": {},
   "outputs": [
    {
     "name": "stdout",
     "output_type": "stream",
     "text": [
      "the count of no.8 is: 5\n"
     ]
    }
   ],
   "source": [
    "#method2 using biult in function\n",
    "def count1(lst,x):\n",
    "    return lst.count(x)\n",
    "    \n",
    "lst = [8, 6, 8, 10, 8, 20, 10, 8, 8]\n",
    "x = 8\n",
    "print(\"the count of no.8 is:\",count1(lst,8))\n"
   ]
  },
  {
   "cell_type": "code",
   "execution_count": 2,
   "id": "daec9d0a",
   "metadata": {},
   "outputs": [
    {
     "name": "stdout",
     "output_type": "stream",
     "text": [
      "[('ram', '15', '8'), ('laxman', 'sita'), ('krishna', 'akbar', '45'), ('', '')]\n"
     ]
    }
   ],
   "source": [
    "#prg34#method1\n",
    "def remove(tuples):\n",
    "    tuples = [t for t in tuples if t!=()]\n",
    "    return tuples\n",
    "\n",
    "tuples = [(), ('ram','15','8'), (), ('laxman', 'sita'), \n",
    "          ('krishna', 'akbar', '45'), ('',''),()]\n",
    "print(remove(tuples))\n",
    "\n"
   ]
  },
  {
   "cell_type": "code",
   "execution_count": 9,
   "id": "277c5c7f",
   "metadata": {},
   "outputs": [
    {
     "name": "stdout",
     "output_type": "stream",
     "text": [
      "(('ram', '15', '8'), ('laxman', 'sita'), ('krishna', 'akbar', '45'), ('', ''))\n"
     ]
    }
   ],
   "source": [
    "#method2#using None\n",
    "def remove(tuples):\n",
    "    tuples = filter(None,tuples)\n",
    "    return tuples\n",
    "\n",
    "tuples = [(), ('ram','15','8'), (), ('laxman', 'sita'), \n",
    "          ('krishna', 'akbar', '45'), ('',''),()]\n",
    "res = tuple(remove(tuples))\n",
    "print(res)\n"
   ]
  },
  {
   "cell_type": "code",
   "execution_count": 13,
   "id": "309ae0be",
   "metadata": {},
   "outputs": [
    {
     "name": "stdout",
     "output_type": "stream",
     "text": [
      "[10, 30, 60, 100, 150]\n"
     ]
    }
   ],
   "source": [
    "#prg35#cumulative of list\n",
    "list=[10,20,30,40,50]\n",
    "cum_list=[]\n",
    "x =0\n",
    "for i in range(0,len(list)):\n",
    "    x = x +list[i]\n",
    "    cum_list.append(x)\n",
    "print(cum_list)\n"
   ]
  },
  {
   "cell_type": "code",
   "execution_count": 20,
   "id": "1d4f6b2a",
   "metadata": {},
   "outputs": [
    {
     "name": "stdout",
     "output_type": "stream",
     "text": [
      "yes\n"
     ]
    }
   ],
   "source": [
    "#prg36\n",
    "#function which return reverse of a string\n",
    "def polindrome(string):\n",
    "    return string ==string[::-1]\n",
    "string = \"malayalam\"\n",
    "ans = polindrome(string)\n",
    "if ans:\n",
    "    print(\"yes\")\n",
    "else:\n",
    "    print(\"No\")\n",
    "\n"
   ]
  },
  {
   "cell_type": "code",
   "execution_count": 27,
   "id": "54e518c1",
   "metadata": {},
   "outputs": [
    {
     "ename": "SyntaxError",
     "evalue": "invalid syntax (779039880.py, line 5)",
     "output_type": "error",
     "traceback": [
      "\u001b[1;36m  Input \u001b[1;32mIn [27]\u001b[1;36m\u001b[0m\n\u001b[1;33m    if string[i]==string[n-i-1]\u001b[0m\n\u001b[1;37m                               ^\u001b[0m\n\u001b[1;31mSyntaxError\u001b[0m\u001b[1;31m:\u001b[0m invalid syntax\n"
     ]
    }
   ],
   "source": [
    "#method2\n",
    "def polindrome(string):\n",
    "    n = len(string)   \n",
    "    for i in range(0,n/2):\n",
    "        if string[i]==string[n-i-1]\n",
    "        return True\n",
    "    return False\n",
    "    \n",
    "    return string ==string[::-1]\n",
    "print(polindrome(malayalam))\n"
   ]
  },
  {
   "cell_type": "code",
   "execution_count": 1,
   "id": "57b42563",
   "metadata": {},
   "outputs": [
    {
     "name": "stdout",
     "output_type": "stream",
     "text": [
      "Yes\n"
     ]
    }
   ],
   "source": [
    "#method3:\n",
    "def isPalindrome(s):\n",
    "    rev = ''.join(reversed(s))\n",
    "    \n",
    "    if (s == rev):\n",
    "        return True\n",
    "    return False\n",
    "\n",
    "s = \"malayalam\"\n",
    "ans = isPalindrome(s)\n",
    " \n",
    "if (ans):\n",
    "    print(\"Yes\")\n",
    "else:\n",
    "    print(\"No\")\n",
    "\n"
   ]
  },
  {
   "cell_type": "code",
   "execution_count": 35,
   "id": "c25b5081",
   "metadata": {},
   "outputs": [
    {
     "name": "stdout",
     "output_type": "stream",
     "text": [
      "yes\n"
     ]
    }
   ],
   "source": [
    "#method4\n",
    "x=\"malayalam\"\n",
    "w = ''\n",
    "for i in x:\n",
    "    w= w+i\n",
    "if x==w:\n",
    "    print(\"yes\")\n",
    "else:\n",
    "    print(\"No\")"
   ]
  },
  {
   "cell_type": "code",
   "execution_count": 5,
   "id": "3fc8ce2a",
   "metadata": {},
   "outputs": [
    {
     "name": "stdout",
     "output_type": "stream",
     "text": [
      "python to welcome\n"
     ]
    }
   ],
   "source": [
    "#prg37# reverse the sentence\n",
    "def reve(sentence):\n",
    "    words = sentence.split(' ')#split string in to words\n",
    "    rev1 = ' '.join(reversed(words)) \n",
    "    return rev1\n",
    "input= \"welcome to python\"\n",
    "print(reve(input))\n",
    "\n"
   ]
  },
  {
   "cell_type": "code",
   "execution_count": 14,
   "id": "be61e62a",
   "metadata": {},
   "outputs": [
    {
     "name": "stdout",
     "output_type": "stream",
     "text": [
      "The original string is : welcomepython\n",
      "The new string is: wecomepython\n"
     ]
    }
   ],
   "source": [
    "#prg38\n",
    "# method to remove i'th character\n",
    "\n",
    "str1 = \"welcomepython\"\n",
    "remove_str = \"\"\n",
    "# Printing original string \n",
    "print (\"The original string is :\",str1)\n",
    "\n",
    "for i in range(len(str1)):\n",
    "    if i!=2:\n",
    "        remove_str=remove_str+str1[i]\n",
    "print(\"The new string is:\",remove_str)\n",
    "        \n"
   ]
  },
  {
   "cell_type": "code",
   "execution_count": 15,
   "id": "5b642f36",
   "metadata": {},
   "outputs": [
    {
     "name": "stdout",
     "output_type": "stream",
     "text": [
      "The original string is : welcomepython\n",
      "New string is wlcompython\n"
     ]
    }
   ],
   "source": [
    "#method2\n",
    "str1 = \"welcomepython\"\n",
    "\n",
    "# Printing original string \n",
    "print (\"The original string is :\",str1)\n",
    "new_str = str1.replace('e', '')\n",
    "print(\"New string is\",new_str)\n"
   ]
  },
  {
   "cell_type": "code",
   "execution_count": 19,
   "id": "bb95d771",
   "metadata": {},
   "outputs": [
    {
     "name": "stdout",
     "output_type": "stream",
     "text": [
      "The original string is : welcomepython\n",
      "New string is wlcomepython\n"
     ]
    }
   ],
   "source": [
    "#method3\n",
    "str1 = \"welcomepython\"\n",
    "# Printing original string \n",
    "print (\"The original string is :\",str1)\n",
    "new_str = str1[:1]+\"\"+str1[2:]\n",
    "print(\"New string is\",new_str)\n",
    "\n",
    "\n",
    "\n"
   ]
  },
  {
   "cell_type": "code",
   "execution_count": null,
   "id": "e0a5740e",
   "metadata": {},
   "outputs": [],
   "source": [
    "#prg39\n",
    "\n"
   ]
  }
 ],
 "metadata": {
  "kernelspec": {
   "display_name": "Python 3 (ipykernel)",
   "language": "python",
   "name": "python3"
  },
  "language_info": {
   "codemirror_mode": {
    "name": "ipython",
    "version": 3
   },
   "file_extension": ".py",
   "mimetype": "text/x-python",
   "name": "python",
   "nbconvert_exporter": "python",
   "pygments_lexer": "ipython3",
   "version": "3.8.7"
  }
 },
 "nbformat": 4,
 "nbformat_minor": 5
}
