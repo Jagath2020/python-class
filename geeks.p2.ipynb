{
 "cells": [
  {
   "cell_type": "code",
   "execution_count": 1,
   "id": "8e2db488",
   "metadata": {},
   "outputs": [
    {
     "name": "stdout",
     "output_type": "stream",
     "text": [
      "21 45 93 "
     ]
    }
   ],
   "source": [
    "#prg24#method1\n",
    "#list odd num\n",
    "list1 = [10, 21, 4, 45, 66, 93]\n",
    "for i in list1:\n",
    "    if i%2==1:\n",
    "        print(i,end=\" \")\n"
   ]
  },
  {
   "cell_type": "code",
   "execution_count": null,
   "id": "034009b4",
   "metadata": {},
   "outputs": [],
   "source": [
    "# method2\n",
    "list1 = [10, 21, 4, 45, 66, 93]\n",
    "i = 0\n",
    "# using while loop        \n",
    "while(i < len(list1)):\n",
    "    if list1[i] % 2 != 0:\n",
    "        print(list1[i], end = \" \")\n",
    "    i += 1\n"
   ]
  },
  {
   "cell_type": "code",
   "execution_count": 5,
   "id": "7c613813",
   "metadata": {},
   "outputs": [
    {
     "name": "stdout",
     "output_type": "stream",
     "text": [
      "[21, 45, 93]\n"
     ]
    }
   ],
   "source": [
    "#method3\n",
    "list1= [10,21,4,45,66,93]\n",
    "odd1 =[num for num in list1 if num%2==1]\n",
    "print(odd1)"
   ]
  },
  {
   "cell_type": "code",
   "execution_count": 1,
   "id": "228fe210",
   "metadata": {},
   "outputs": [
    {
     "name": "stdout",
     "output_type": "stream",
     "text": [
      "3 5 7 9 "
     ]
    }
   ],
   "source": [
    "#prg25#method1 \n",
    "#list odd num using range\n",
    "start,end = 2,10\n",
    "for i in range(start,end):\n",
    "    if i%2==1:\n",
    "        print(i,end=\" \")\n"
   ]
  },
  {
   "cell_type": "code",
   "execution_count": 6,
   "id": "3ae4c869",
   "metadata": {},
   "outputs": [
    {
     "name": "stdout",
     "output_type": "stream",
     "text": [
      "Enter the start of range: 2\n",
      "Enter the end of range: 9\n",
      "3 5 7 9 "
     ]
    }
   ],
   "source": [
    "#method2\n",
    "start = int(input(\"Enter the start of range: \"))\n",
    "end = int(input(\"Enter the end of range: \"))\n",
    "\n",
    "for num in range(start, end + 1):\n",
    "    if num % 2 != 0:\n",
    "        print(num, end = \" \")\n",
    "\n",
    "\n"
   ]
  },
  {
   "cell_type": "code",
   "execution_count": 7,
   "id": "1be16090",
   "metadata": {},
   "outputs": [
    {
     "name": "stdout",
     "output_type": "stream",
     "text": [
      "Enter the start of range: 3\n",
      "Enter the end of range: 20\n",
      "4 6 8 10 12 14 16 18 20 "
     ]
    }
   ],
   "source": [
    "#method3\n",
    "start = int(input(\"Enter the start of range: \"))\n",
    "end = int(input(\"Enter the end of range: \"))\n",
    "  \n",
    "#create a list that contains only Even numbers in given range\n",
    "even_list = range(start, end + 1)[start%2::2]#the remainder0 and it will print odd at interval2\n",
    "  \n",
    "for num in even_list:\n",
    "    print(num, end = \" \")\n",
    "\n"
   ]
  },
  {
   "cell_type": "code",
   "execution_count": 1,
   "id": "09945297",
   "metadata": {},
   "outputs": [
    {
     "name": "stdout",
     "output_type": "stream",
     "text": [
      "2 4 6 8 "
     ]
    }
   ],
   "source": [
    "#prg26#method1\n",
    "#list even num using range\n",
    "start,end = 2,10\n",
    "for i in range(start,end):\n",
    "    if i%2==0:\n",
    "        print(i,end=\" \")\n"
   ]
  },
  {
   "cell_type": "code",
   "execution_count": 2,
   "id": "718311d5",
   "metadata": {},
   "outputs": [
    {
     "name": "stdout",
     "output_type": "stream",
     "text": [
      "Enter the start of range: 4\n",
      "Enter the end of range: 16\n",
      "4 6 8 10 12 14 16 "
     ]
    }
   ],
   "source": [
    "#method2#even no range input method\n",
    "start = int(input(\"Enter the start of range: \"))\n",
    "end = int(input(\"Enter the end of range: \"))\n",
    "\n",
    "for num in range(start, end + 1):\n",
    "    if num % 2 == 0:\n",
    "        print(num, end = \" \")\n"
   ]
  },
  {
   "cell_type": "code",
   "execution_count": 5,
   "id": "b63daa04",
   "metadata": {},
   "outputs": [
    {
     "name": "stdout",
     "output_type": "stream",
     "text": [
      "11 0 45 66 "
     ]
    }
   ],
   "source": [
    "#prg27#find positive numbers method1\n",
    "list1 = [11, -21, 0, 45, 66, -93]\n",
    "for i in list1:\n",
    "    if i>=0:\n",
    "        print(i,end=' ')"
   ]
  },
  {
   "cell_type": "code",
   "execution_count": 1,
   "id": "ac53e7a7",
   "metadata": {},
   "outputs": [
    {
     "name": "stdout",
     "output_type": "stream",
     "text": [
      "11 0 45 66 "
     ]
    }
   ],
   "source": [
    "#method2\n",
    "i =0\n",
    "list1 = [11, -21, 0, 45, 66, -93]\n",
    "n = len(list1)\n",
    "while i<n:\n",
    "    if list1[i]>=0:\n",
    "        print(list1[i],end=' ')\n",
    "    i+=1\n",
    "\n",
    "\n"
   ]
  },
  {
   "cell_type": "code",
   "execution_count": 3,
   "id": "b7a64532",
   "metadata": {},
   "outputs": [
    {
     "name": "stdout",
     "output_type": "stream",
     "text": [
      "Positive numbers in the list:  [45, 93]\n"
     ]
    }
   ],
   "source": [
    "#method3\n",
    "list1 = [-10, -21, -4, 45, -66, 93]\n",
    "# using list comprehension\n",
    "pos_nos = [num for num in list1 if num >= 0]\n",
    "  \n",
    "print(\"Positive numbers in the list: \", pos_nos)\n",
    "\n"
   ]
  },
  {
   "cell_type": "code",
   "execution_count": 4,
   "id": "80f44c03",
   "metadata": {},
   "outputs": [
    {
     "name": "stdout",
     "output_type": "stream",
     "text": [
      "-21 -93 "
     ]
    }
   ],
   "source": [
    "#prg28#find negative numbers method1\n",
    "list1 = [11, -21, 0, 45, 66, -93]\n",
    "for i in list1:\n",
    "    if i<0:\n",
    "        print(i,end=' ')"
   ]
  },
  {
   "cell_type": "code",
   "execution_count": 5,
   "id": "a14e644f",
   "metadata": {},
   "outputs": [
    {
     "name": "stdout",
     "output_type": "stream",
     "text": [
      "-21 -93 "
     ]
    }
   ],
   "source": [
    "#method2\n",
    "i =0\n",
    "list1 = [11, -21, 0, 45, 66, -93]\n",
    "n = len(list1)\n",
    "while i<n:\n",
    "    if list1[i]<0:\n",
    "        print(list1[i],end=' ')\n",
    "    i+=1\n"
   ]
  },
  {
   "cell_type": "code",
   "execution_count": 6,
   "id": "a2507d75",
   "metadata": {},
   "outputs": [
    {
     "name": "stdout",
     "output_type": "stream",
     "text": [
      "Positive numbers in the list:  [-10, -21, -4, -66]\n"
     ]
    }
   ],
   "source": [
    "#method3\n",
    "list1 = [-10, -21, -4, 45, -66, 93]\n",
    "# using list comprehension\n",
    "pos_nos = [num for num in list1 if num <0]\n",
    "  \n",
    "print(\"Positive numbers in the list: \", pos_nos)\n",
    "\n"
   ]
  },
  {
   "cell_type": "code",
   "execution_count": 7,
   "id": "4976f2a5",
   "metadata": {},
   "outputs": [
    {
     "name": "stdout",
     "output_type": "stream",
     "text": [
      "0 1 2 3 4 5 6 7 8 9 10 "
     ]
    }
   ],
   "source": [
    "#prg28 #find positive no in range\n",
    "#method1\n",
    "start,end = -4,10\n",
    "for i in range(start,end+1):\n",
    "    if i>=0:\n",
    "        print(i, end =' ')"
   ]
  },
  {
   "cell_type": "code",
   "execution_count": 9,
   "id": "b47fccb8",
   "metadata": {},
   "outputs": [
    {
     "name": "stdout",
     "output_type": "stream",
     "text": [
      "enter the start no-5\n",
      "enter the end no5\n",
      "0 1 2 3 4 5 "
     ]
    }
   ],
   "source": [
    "#method2\n",
    "start = int(input(\"enter the start no\"))\n",
    "end = int(input(\"enter the end no\"))\n",
    "\n",
    "for i in range(start,end+1):\n",
    "    if i>=0:\n",
    "        print(i, end= ' ')\n",
    "\n"
   ]
  },
  {
   "cell_type": "code",
   "execution_count": 10,
   "id": "b0f8bded",
   "metadata": {},
   "outputs": [
    {
     "name": "stdout",
     "output_type": "stream",
     "text": [
      "-4 -3 -2 -1 "
     ]
    }
   ],
   "source": [
    "#prg29 #find positive no in range\n",
    "#method1\n",
    "start,end = -4,10\n",
    "for i in range(start,end+1):\n",
    "    if i<0:\n",
    "        print(i, end =' ')"
   ]
  },
  {
   "cell_type": "code",
   "execution_count": 11,
   "id": "532c77e4",
   "metadata": {},
   "outputs": [
    {
     "name": "stdout",
     "output_type": "stream",
     "text": [
      "enter the start no-5\n",
      "enter the end no5\n",
      "-5 -4 -3 -2 -1 "
     ]
    }
   ],
   "source": [
    "#method2\n",
    "start = int(input(\"enter the start no\"))\n",
    "end = int(input(\"enter the end no\"))\n",
    "\n",
    "for i in range(start,end+1):\n",
    "    if i<0:\n",
    "        print(i, end= ' ')\n"
   ]
  },
  {
   "cell_type": "code",
   "execution_count": 17,
   "id": "77fe8253",
   "metadata": {},
   "outputs": [
    {
     "name": "stdout",
     "output_type": "stream",
     "text": [
      "new list after removed element: [11, 5, 17, 23]\n"
     ]
    }
   ],
   "source": [
    "#prg30#method1\n",
    "# program to remove multiple\n",
    "list1 = [11, 5, 17, 18, 23, 50]#reove even no\n",
    "for i in list1:\n",
    "    if i%2==0:\n",
    "        list1.remove(i)\n",
    "print(\"new list after removed element:\",list1)\n"
   ]
  },
  {
   "cell_type": "code",
   "execution_count": 16,
   "id": "ebde1fa4",
   "metadata": {},
   "outputs": [
    {
     "name": "stdout",
     "output_type": "stream",
     "text": [
      "[11, 5, 17, 23]\n"
     ]
    }
   ],
   "source": [
    "#method2#list comprehension\n",
    "list1 = [11, 5, 17, 18, 23, 50]\n",
    "\n",
    "list1 = [elem for elem in list1 if elem%2!=0]\n",
    "print(list1)"
   ]
  },
  {
   "cell_type": "code",
   "execution_count": 19,
   "id": "2be573cc",
   "metadata": {},
   "outputs": [
    {
     "name": "stdout",
     "output_type": "stream",
     "text": [
      "the removed list using del [11, 50]\n"
     ]
    }
   ],
   "source": [
    "#method3 using del fun\n",
    "list1 = [11, 5, 17, 18, 23, 50]\n",
    "del list1[1:5]#index method\n",
    "print(\"the removed list using del\",list1)\n",
    "    "
   ]
  },
  {
   "cell_type": "code",
   "execution_count": 24,
   "id": "80fd5724",
   "metadata": {},
   "outputs": [
    {
     "name": "stdout",
     "output_type": "stream",
     "text": [
      "The original list is: [5, 6, [], 3, [], [], 9]\n",
      "[5, 6, 3, 9]\n"
     ]
    }
   ],
   "source": [
    " #prg31 #method1\n",
    "# Remove empty List from List\n",
    "# using list comprehension\n",
    "list1 = [5, 6, [], 3, [], [], 9]\n",
    "print(\"The original list is:\",list1)\n",
    " \n",
    "remove = [elem for elem in list1 if elem!=[]]\n",
    "print(remove)"
   ]
  },
  {
   "cell_type": "code",
   "execution_count": 26,
   "id": "424ee2a2",
   "metadata": {},
   "outputs": [
    {
     "name": "stdout",
     "output_type": "stream",
     "text": [
      "[5, 6, 3, 9]\n"
     ]
    }
   ],
   "source": [
    "#method2\n",
    "list1 = [5, 6, [], 3, [], [], 9]\n",
    "res = list(filter(None,list1))#that (None) removes the empty list\n",
    "print(res)\n"
   ]
  },
  {
   "cell_type": "code",
   "execution_count": 28,
   "id": "145810e8",
   "metadata": {},
   "outputs": [
    {
     "name": "stdout",
     "output_type": "stream",
     "text": [
      "Original List: [4, 8, 2, 10, 15, 18]\n",
      "After Cloning: [4, 8, 2, 10, 15, 18]\n"
     ]
    }
   ],
   "source": [
    "#prg32#cloning or copying\n",
    "#method1\n",
    "def cloning(li1):\n",
    "    li_copy= li1[:]\n",
    "    return li_copy\n",
    "\n",
    "li1 = [4, 8, 2, 10, 15, 18]\n",
    "print(\"Original List:\", li1)\n",
    "print(\"After Cloning:\",cloning(li1))\n"
   ]
  },
  {
   "cell_type": "code",
   "execution_count": 33,
   "id": "2c87795c",
   "metadata": {},
   "outputs": [
    {
     "name": "stdout",
     "output_type": "stream",
     "text": [
      "the copied list is [4, 8, 2, 10, 15, 18]\n"
     ]
    }
   ],
   "source": [
    "#method2 using copy#deep copy\n",
    "li1 = [4, 8, 2, 10, 15, 18]\n",
    "li2 = li1.copy()\n",
    "print(\"the copied list is\",li2)"
   ]
  },
  {
   "cell_type": "code",
   "execution_count": 35,
   "id": "3019f8d7",
   "metadata": {},
   "outputs": [
    {
     "name": "stdout",
     "output_type": "stream",
     "text": [
      "Original List: [4, 8, 2, 10, 15, 18]\n",
      "After Cloning: [4, 8, 2, 10, 15, 18]\n"
     ]
    }
   ],
   "source": [
    "#method3#using extend method\n",
    "def cloning(li1):\n",
    "    li_copy= []\n",
    "    li_copy.extend(li1)\n",
    "    return li_copy\n",
    "\n",
    "li1 = [4, 8, 2, 10, 15, 18]\n",
    "print(\"Original List:\", li1)\n",
    "print(\"After Cloning:\",cloning(li1))\n"
   ]
  },
  {
   "cell_type": "code",
   "execution_count": 36,
   "id": "d57e0510",
   "metadata": {},
   "outputs": [
    {
     "name": "stdout",
     "output_type": "stream",
     "text": [
      "Original List: [4, 8, 2, 10, 15, 18]\n",
      "After Cloning: [4, 8, 2, 10, 15, 18]\n"
     ]
    }
   ],
   "source": [
    "#method4#using list method\n",
    "def cloning(li1):\n",
    "    li_copy= list(li1)#shallow copy\n",
    "    return li_copy\n",
    "\n",
    "li1 = [4, 8, 2, 10, 15, 18]\n",
    "print(\"Original List:\", li1)\n",
    "print(\"After Cloning:\",cloning(li1))\n"
   ]
  },
  {
   "cell_type": "code",
   "execution_count": 39,
   "id": "ee44e981",
   "metadata": {},
   "outputs": [
    {
     "name": "stdout",
     "output_type": "stream",
     "text": [
      "Original List: [4, 8, 2, 10, 15, 18]\n",
      "After Cloning: [4, 8, 2, 10, 15, 18]\n"
     ]
    }
   ],
   "source": [
    "#method5\n",
    "def Cloning(li1):\n",
    "    li_copy =[]\n",
    "    for i in li1:\n",
    "        li_copy.append(i)\n",
    "    return li_copy\n",
    "li1 = [4, 8, 2, 10, 15, 18]\n",
    "print(\"Original List:\", li1)\n",
    "print(\"After Cloning:\",cloning(li1))\n",
    "  \n"
   ]
  },
  {
   "cell_type": "code",
   "execution_count": 41,
   "id": "33a8570d",
   "metadata": {},
   "outputs": [
    {
     "name": "stdout",
     "output_type": "stream",
     "text": [
      "the count of no.8 is: 5\n"
     ]
    }
   ],
   "source": [
    "#prg33#method1\n",
    "# count the number of occurrences\n",
    "def count1(lst,x):\n",
    "    count=0\n",
    "    for i in lst:\n",
    "        if i==x:\n",
    "            count = count+1\n",
    "    return count    \n",
    "lst = [8, 6, 8, 10, 8, 20, 10, 8, 8]\n",
    "x = 8\n",
    "print(\"the count of no.8 is:\",count1(lst,8))"
   ]
  },
  {
   "cell_type": "code",
   "execution_count": 43,
   "id": "d15c0871",
   "metadata": {},
   "outputs": [
    {
     "name": "stdout",
     "output_type": "stream",
     "text": [
      "the count of no.8 is: 5\n"
     ]
    }
   ],
   "source": [
    "#method2 using biult in function\n",
    "def count1(lst,x):\n",
    "    return lst.count(x)\n",
    "    \n",
    "lst = [8, 6, 8, 10, 8, 20, 10, 8, 8]\n",
    "x = 8\n",
    "print(\"the count of no.8 is:\",count1(lst,8))\n"
   ]
  },
  {
   "cell_type": "code",
   "execution_count": 2,
   "id": "daec9d0a",
   "metadata": {},
   "outputs": [
    {
     "name": "stdout",
     "output_type": "stream",
     "text": [
      "[('ram', '15', '8'), ('laxman', 'sita'), ('krishna', 'akbar', '45'), ('', '')]\n"
     ]
    }
   ],
   "source": [
    "#prg34#method1\n",
    "def remove(tuples):\n",
    "    tuples = [t for t in tuples if t!=()]\n",
    "    return tuples\n",
    "\n",
    "tuples = [(), ('ram','15','8'), (), ('laxman', 'sita'), \n",
    "          ('krishna', 'akbar', '45'), ('',''),()]\n",
    "print(remove(tuples))\n",
    "\n"
   ]
  },
  {
   "cell_type": "code",
   "execution_count": 9,
   "id": "277c5c7f",
   "metadata": {},
   "outputs": [
    {
     "name": "stdout",
     "output_type": "stream",
     "text": [
      "(('ram', '15', '8'), ('laxman', 'sita'), ('krishna', 'akbar', '45'), ('', ''))\n"
     ]
    }
   ],
   "source": [
    "#method2#using None\n",
    "def remove(tuples):\n",
    "    tuples = filter(None,tuples)\n",
    "    return tuples\n",
    "\n",
    "tuples = [(), ('ram','15','8'), (), ('laxman', 'sita'), \n",
    "          ('krishna', 'akbar', '45'), ('',''),()]\n",
    "res = tuple(remove(tuples))\n",
    "print(res)\n"
   ]
  },
  {
   "cell_type": "code",
   "execution_count": 13,
   "id": "309ae0be",
   "metadata": {},
   "outputs": [
    {
     "name": "stdout",
     "output_type": "stream",
     "text": [
      "[10, 30, 60, 100, 150]\n"
     ]
    }
   ],
   "source": [
    "#prg35#cumulative of list\n",
    "list=[10,20,30,40,50]\n",
    "cum_list=[]\n",
    "x =0\n",
    "for i in range(0,len(list)):\n",
    "    x = x +list[i]\n",
    "    cum_list.append(x)\n",
    "print(cum_list)\n"
   ]
  },
  {
   "cell_type": "code",
   "execution_count": 20,
   "id": "1d4f6b2a",
   "metadata": {},
   "outputs": [
    {
     "name": "stdout",
     "output_type": "stream",
     "text": [
      "yes\n"
     ]
    }
   ],
   "source": [
    "#prg36\n",
    "#function which return reverse of a string\n",
    "def polindrome(string):\n",
    "    return string ==string[::-1]\n",
    "string = \"malayalam\"\n",
    "ans = polindrome(string)\n",
    "if ans:\n",
    "    print(\"yes\")\n",
    "else:\n",
    "    print(\"No\")\n",
    "\n"
   ]
  },
  {
   "cell_type": "code",
   "execution_count": 27,
   "id": "54e518c1",
   "metadata": {},
   "outputs": [
    {
     "ename": "SyntaxError",
     "evalue": "invalid syntax (779039880.py, line 5)",
     "output_type": "error",
     "traceback": [
      "\u001b[1;36m  Input \u001b[1;32mIn [27]\u001b[1;36m\u001b[0m\n\u001b[1;33m    if string[i]==string[n-i-1]\u001b[0m\n\u001b[1;37m                               ^\u001b[0m\n\u001b[1;31mSyntaxError\u001b[0m\u001b[1;31m:\u001b[0m invalid syntax\n"
     ]
    }
   ],
   "source": [
    "#method2\n",
    "def polindrome(string):\n",
    "    n = len(string)   \n",
    "    for i in range(0,n/2):\n",
    "        if string[i]==string[n-i-1]\n",
    "        return True\n",
    "    return False\n",
    "    \n",
    "    return string ==string[::-1]\n",
    "print(polindrome(malayalam))\n"
   ]
  },
  {
   "cell_type": "code",
   "execution_count": 1,
   "id": "57b42563",
   "metadata": {},
   "outputs": [
    {
     "name": "stdout",
     "output_type": "stream",
     "text": [
      "Yes\n"
     ]
    }
   ],
   "source": [
    "#method3:\n",
    "def isPalindrome(s):\n",
    "    rev = ''.join(reversed(s))\n",
    "    \n",
    "    if (s == rev):\n",
    "        return True\n",
    "    return False\n",
    "\n",
    "s = \"malayalam\"\n",
    "ans = isPalindrome(s)\n",
    " \n",
    "if (ans):\n",
    "    print(\"Yes\")\n",
    "else:\n",
    "    print(\"No\")\n",
    "\n"
   ]
  },
  {
   "cell_type": "code",
   "execution_count": 35,
   "id": "c25b5081",
   "metadata": {},
   "outputs": [
    {
     "name": "stdout",
     "output_type": "stream",
     "text": [
      "yes\n"
     ]
    }
   ],
   "source": [
    "#method4\n",
    "x=\"malayalam\"\n",
    "w = ''\n",
    "for i in x:\n",
    "    w= w+i\n",
    "if x==w:\n",
    "    print(\"yes\")\n",
    "else:\n",
    "    print(\"No\")"
   ]
  },
  {
   "cell_type": "code",
   "execution_count": 5,
   "id": "3fc8ce2a",
   "metadata": {},
   "outputs": [
    {
     "name": "stdout",
     "output_type": "stream",
     "text": [
      "python to welcome\n"
     ]
    }
   ],
   "source": [
    "#prg37# reverse the sentence\n",
    "def reve(sentence):\n",
    "    words = sentence.split(' ')#split string in to words\n",
    "    rev1 = ' '.join(reversed(words)) \n",
    "    return rev1\n",
    "input= \"welcome to python\"\n",
    "print(reve(input))\n",
    "\n"
   ]
  },
  {
   "cell_type": "code",
   "execution_count": 14,
   "id": "be61e62a",
   "metadata": {},
   "outputs": [
    {
     "name": "stdout",
     "output_type": "stream",
     "text": [
      "The original string is : welcomepython\n",
      "The new string is: wecomepython\n"
     ]
    }
   ],
   "source": [
    "#prg38\n",
    "# method to remove i'th character\n",
    "\n",
    "str1 = \"welcomepython\"\n",
    "remove_str = \"\"\n",
    "# Printing original string \n",
    "print (\"The original string is :\",str1)\n",
    "\n",
    "for i in range(len(str1)):\n",
    "    if i!=2:\n",
    "        remove_str=remove_str+str1[i]\n",
    "print(\"The new string is:\",remove_str)\n",
    "        \n"
   ]
  },
  {
   "cell_type": "code",
   "execution_count": 15,
   "id": "5b642f36",
   "metadata": {},
   "outputs": [
    {
     "name": "stdout",
     "output_type": "stream",
     "text": [
      "The original string is : welcomepython\n",
      "New string is wlcompython\n"
     ]
    }
   ],
   "source": [
    "#method2\n",
    "str1 = \"welcomepython\"\n",
    "\n",
    "# Printing original string \n",
    "print (\"The original string is :\",str1)\n",
    "new_str = str1.replace('e', '')\n",
    "print(\"New string is\",new_str)\n"
   ]
  },
  {
   "cell_type": "code",
   "execution_count": 19,
   "id": "bb95d771",
   "metadata": {},
   "outputs": [
    {
     "name": "stdout",
     "output_type": "stream",
     "text": [
      "The original string is : welcomepython\n",
      "New string is wlcomepython\n"
     ]
    }
   ],
   "source": [
    "#method3\n",
    "str1 = \"welcomepython\"\n",
    "# Printing original string \n",
    "print (\"The original string is :\",str1)\n",
    "new_str = str1[:1]+\"\"+str1[2:]\n",
    "print(\"New string is\",new_str)\n",
    "\n"
   ]
  },
  {
   "cell_type": "code",
   "execution_count": 7,
   "id": "e0a5740e",
   "metadata": {},
   "outputs": [
    {
     "name": "stdout",
     "output_type": "stream",
     "text": [
      "yes\n"
     ]
    }
   ],
   "source": [
    "#prg39#prg to find sub string\n",
    "#method1#usinf findbuilt in fun\n",
    "def check(string,sub_str):\n",
    "    if string.find(sub_str)==1:\n",
    "        return \"no\"\n",
    "    else:\n",
    "        return \"yes\"\n",
    "    \n",
    "string=\"geeks for geeks\"\n",
    "sub_str=\"geeks\"\n",
    "print(check(string,sub_str))\n",
    "\n"
   ]
  },
  {
   "cell_type": "code",
   "execution_count": 8,
   "id": "fd4ddebd",
   "metadata": {},
   "outputs": [
    {
     "name": "stdout",
     "output_type": "stream",
     "text": [
      "yes\n"
     ]
    }
   ],
   "source": [
    "def check(string,sub_str):#method2 using count\n",
    "    if string.count(sub_str)>=1:\n",
    "        return \"yes\"\n",
    "    else:\n",
    "        return \"no\"\n",
    "    \n",
    "string=\"geeks for geeks\"\n",
    "sub_str=\"geeks\"\n",
    "print(check(string,sub_str))\n",
    "\n"
   ]
  },
  {
   "cell_type": "code",
   "execution_count": 9,
   "id": "62c1c1f1",
   "metadata": {},
   "outputs": [
    {
     "name": "stdout",
     "output_type": "stream",
     "text": [
      "YES,string 'geek' is present in string 'A geek in need is a geek indeed' \n"
     ]
    }
   ],
   "source": [
    "#method3\n",
    "import re\n",
    " # Take input from users\n",
    "MyString1 =  \"A geek in need is a geek indeed\"\n",
    "MyString2 =\"geek\"\n",
    "  \n",
    "# re.search() returns a Match object if there is a match anywhere in the string\n",
    "if re.search( MyString2, MyString1 ):\n",
    "    print(\"YES,string '{0}' is present in string '{1}' \" .format(MyString2,MyString1))\n",
    "else:\n",
    "    print(\"NO,string '{0}' is not present in string {1} \" .format(MyString2, MyString1) )\n",
    "\n"
   ]
  },
  {
   "cell_type": "code",
   "execution_count": 12,
   "id": "902c12ac",
   "metadata": {},
   "outputs": [
    {
     "name": "stdout",
     "output_type": "stream",
     "text": [
      "The original string is : python is good and python is always good\n",
      "word frequency is: {'python': 2, 'is': 2, 'good': 2, 'and': 1, 'always': 1}\n"
     ]
    }
   ],
   "source": [
    "#prg40#find the frequency of word\n",
    "#method1#using dict\n",
    "str1 = 'python is good and python is always good'\n",
    "print(\"The original string is :\",str1)\n",
    "  \n",
    "# Using dictionary comprehension + count() + split()\n",
    "res = {key: str1.count(key) for key in str1.split()}\n",
    "  \n",
    "# printing result \n",
    "print(\"word frequency is:\",res) \n"
   ]
  },
  {
   "cell_type": "code",
   "execution_count": 16,
   "id": "eeeb6b21",
   "metadata": {},
   "outputs": [
    {
     "name": "stdout",
     "output_type": "stream",
     "text": [
      "The original string is : python is good and python is always good\n",
      "word frequency is: Counter({'python': 2, 'is': 2, 'good': 2, 'and': 1, 'always': 1})\n"
     ]
    }
   ],
   "source": [
    "#method2#using count method\n",
    "from collections import Counter\n",
    "\n",
    "str1 = 'python is good and python is always good'\n",
    "print(\"The original string is :\",str1)\n",
    " \n",
    "# Using counter\n",
    "res = Counter(str1.split())\n",
    "# printing result \n",
    "print(\"word frequency is:\",res) \n"
   ]
  },
  {
   "cell_type": "code",
   "execution_count": 18,
   "id": "7ea8e525",
   "metadata": {},
   "outputs": [
    {
     "name": "stdout",
     "output_type": "stream",
     "text": [
      "orginal string is: welcome_to_python\n",
      "Welcometopython\n"
     ]
    }
   ],
   "source": [
    "#prg41\n",
    "#convert snake case to pascal case\n",
    "str1= \"welcome_to_python\"\n",
    "print(\"orginal string is:\",str1)\n",
    "res=str1.replace(\"_\",\"\").title().replace(\" \",\"\")\n",
    "print(res)"
   ]
  },
  {
   "cell_type": "code",
   "execution_count": 20,
   "id": "65385ffa",
   "metadata": {},
   "outputs": [
    {
     "name": "stdout",
     "output_type": "stream",
     "text": [
      "orginal string is: welcome_to_python\n",
      "WelcomeToPython\n"
     ]
    }
   ],
   "source": [
    " #method2\n",
    "import string\n",
    "str1= \"welcome_to_python\"\n",
    "print(\"orginal string is:\",str1)\n",
    "res = string.capwords(str1.replace(\"_\", \" \")).replace(\" \", \"\")\n",
    "print(res)\n"
   ]
  },
  {
   "cell_type": "code",
   "execution_count": 21,
   "id": "d9570a5b",
   "metadata": {},
   "outputs": [
    {
     "name": "stdout",
     "output_type": "stream",
     "text": [
      "6\n"
     ]
    }
   ],
   "source": [
    "#prg42\n",
    "#find length of the string#method1\n",
    "string=\"python\"\n",
    "print(len(string))\n"
   ]
  },
  {
   "cell_type": "code",
   "execution_count": 23,
   "id": "6ef38c60",
   "metadata": {},
   "outputs": [
    {
     "name": "stdout",
     "output_type": "stream",
     "text": [
      "6\n"
     ]
    }
   ],
   "source": [
    "#method2:\n",
    "string =\"python\"\n",
    "count = 0\n",
    "for i in (string):\n",
    "    count+=1\n",
    "print(count)"
   ]
  },
  {
   "cell_type": "code",
   "execution_count": 24,
   "id": "122b5754",
   "metadata": {},
   "outputs": [
    {
     "name": "stdout",
     "output_type": "stream",
     "text": [
      "6\n"
     ]
    }
   ],
   "source": [
    "#method3\n",
    "def findLen(str):\n",
    "    counter = 0\n",
    "    while str[counter:]:\n",
    "        counter += 1\n",
    "    return counter\n",
    "  \n",
    "str = \"python\"\n",
    "print(findLen(str))\n"
   ]
  },
  {
   "cell_type": "code",
   "execution_count": 34,
   "id": "cffcf917",
   "metadata": {},
   "outputs": [
    {
     "name": "stdout",
     "output_type": "stream",
     "text": [
      "python\n",
      "is\n",
      "good\n"
     ]
    }
   ],
   "source": [
    "#prg43\n",
    "#find even num of words\n",
    "\n",
    "def find_even_words(s):\n",
    "    s=s.split(' ')\n",
    "    for word in s:\n",
    "        if len(word)%2==0:\n",
    "            print(word)\n",
    "\n",
    "s= \"python is good every where\"\n",
    "find_even_words(s)"
   ]
  },
  {
   "cell_type": "code",
   "execution_count": 81,
   "id": "6ce85376",
   "metadata": {},
   "outputs": [
    {
     "name": "stdout",
     "output_type": "stream",
     "text": [
      "No. of matching characters are :  5\n"
     ]
    }
   ],
   "source": [
    "#prg44#method1\n",
    "#Count the Number of matching characters in a pair of string\n",
    "\n",
    "def count(str1, str2): \n",
    "    c=0\n",
    "\n",
    "    for i in (str1):    \n",
    "        if str2.find(i)>=0 : \n",
    "            c += 1\n",
    "        \n",
    "    print ('No. of matching characters are : ', c)\n",
    "    \n",
    "str1 ='pythonjavn' # first string\n",
    "str2 ='pyjava' # second strin\n",
    "count(str1, str2) # calling count function \n",
    "\n"
   ]
  },
  {
   "cell_type": "code",
   "execution_count": 79,
   "id": "c0b934a6",
   "metadata": {},
   "outputs": [
    {
     "data": {
      "text/plain": [
       "5"
      ]
     },
     "execution_count": 79,
     "metadata": {},
     "output_type": "execute_result"
    }
   ],
   "source": [
    "def count(str1 ,str2,) :#method2\n",
    "    # set of characters of string1\n",
    "    set_string1 = set(str1)\n",
    "  \n",
    "    # set of characters of string2\n",
    "    set_string2 = set(str2)\n",
    "     \n",
    "    common = set_string1.intersection(set_string2)\n",
    "    res=len(common)\n",
    "    return res\n",
    "      \n",
    "    \n",
    "str1 ='pythonjavn' # first string\n",
    "str2 ='pyjava' # second string\n",
    "count(str1, str2) # calling count function \n",
    "\n",
    "  "
   ]
  },
  {
   "cell_type": "code",
   "execution_count": 97,
   "id": "6bcbe24a",
   "metadata": {},
   "outputs": [
    {
     "name": "stdout",
     "output_type": "stream",
     "text": [
      "The minimum of all characters in GeeksforGeeks is : f\n"
     ]
    }
   ],
   "source": [
    "#prg45#Least Frequent Character in String\n",
    "\n",
    "#method1\n",
    "\n",
    "str1 = \"GeeksforGeeks\"\n",
    "least_count={}\n",
    "for i in (str1):\n",
    "    if i in least_count:\n",
    "        least_count[i]+=1\n",
    "    else:\n",
    "        least_count[i]=1\n",
    "    res = min(least_count,key = least_count.get) \n",
    "  \n",
    "# printing result \n",
    "print (\"The minimum of all characters in GeeksforGeeks is :\",res)\n"
   ]
  },
  {
   "cell_type": "code",
   "execution_count": 98,
   "id": "22167dab",
   "metadata": {},
   "outputs": [
    {
     "name": "stdout",
     "output_type": "stream",
     "text": [
      "The original string is : GeeksforGeeks\n",
      "The minimum of all characters in GeeksforGeeks is: f\n"
     ]
    }
   ],
   "source": [
    "\n",
    "#method2\n",
    "from collections import Counter\n",
    "str1 = \"GeeksforGeeks\"\n",
    "  \n",
    "# printing original string\n",
    "print (\"The original string is :\",str1)\n",
    "  \n",
    "res = Counter(str1)\n",
    "res = min(res, key = res.get) \n",
    "  \n",
    "# printing result \n",
    "print (\"The minimum of all characters in GeeksforGeeks is:\",res)\n",
    "\n"
   ]
  },
  {
   "cell_type": "code",
   "execution_count": 4,
   "id": "32e0779d",
   "metadata": {},
   "outputs": [
    {
     "name": "stdout",
     "output_type": "stream",
     "text": [
      "Size of Tuple1: 88bytes\n",
      "Size of Tuple2: 88bytes\n",
      "Size of Tuple3: 72bytes\n",
      "Size of Tuple1: 72bytes\n",
      "Size of Tuple2: 72bytes\n",
      "Size of Tuple3: 56bytes\n"
     ]
    }
   ],
   "source": [
    "#prg46#find size of tuples\n",
    "#method1\n",
    "import sys\n",
    "  \n",
    "# sample Tuples\n",
    "Tuple1 = (\"A\", 1, \"B\", 2, \"C\", 3)\n",
    "Tuple2 = (\"Geek1\", \"Raju\", \"Geek2\", \"Nikhil\", \"Geek3\", \"Deepanshu\")\n",
    "Tuple3 = ((1, \"Lion\"), ( 2, \"Tiger\"), (3, \"Fox\"), (4, \"Wolf\"))\n",
    "  \n",
    "# print the sizes of sample Tuples\n",
    "print(\"Size of Tuple1: \" + str(sys.getsizeof(Tuple1)) + \"bytes\")\n",
    "print(\"Size of Tuple2: \" + str(sys.getsizeof(Tuple2)) + \"bytes\")\n",
    "print(\"Size of Tuple3: \" + str(sys.getsizeof(Tuple3)) + \"bytes\")\n",
    "\n",
    "#method2\n",
    "\n",
    "print(\"Size of Tuple1: \" + str(Tuple1.__sizeof__()) + \"bytes\")\n",
    "print(\"Size of Tuple2: \" + str(Tuple2.__sizeof__()) + \"bytes\")\n",
    "print(\"Size of Tuple3: \" + str(Tuple3.__sizeof__()) + \"bytes\")\n",
    "\n",
    "\n"
   ]
  },
  {
   "cell_type": "code",
   "execution_count": 1,
   "id": "2a134581",
   "metadata": {},
   "outputs": [
    {
     "name": "stdout",
     "output_type": "stream",
     "text": [
      "The maxium of all characters in GeeksforGeeks is : e\n"
     ]
    }
   ],
   "source": [
    "#prg47\n",
    "#prg45#maximum Frequency Character in String\n",
    "\n",
    "#method1\n",
    "\n",
    "str1 = \"GeeksforGeeks\"\n",
    "least_count={}\n",
    "for i in (str1):\n",
    "    if i in least_count:\n",
    "        least_count[i]+=1\n",
    "    else:\n",
    "        least_count[i]=1\n",
    "    res = max(least_count,key = least_count.get) \n",
    "  \n",
    "# printing result \n",
    "print (\"The maxium of all characters in GeeksforGeeks is :\",res)\n",
    "\n"
   ]
  },
  {
   "cell_type": "code",
   "execution_count": 2,
   "id": "b81c73fb",
   "metadata": {},
   "outputs": [
    {
     "name": "stdout",
     "output_type": "stream",
     "text": [
      "The original string is : GeeksforGeeks\n",
      "The maximum of all characters in GeeksforGeeks is: e\n"
     ]
    }
   ],
   "source": [
    "#method2\n",
    "from collections import Counter\n",
    "str1 = \"GeeksforGeeks\"\n",
    "  \n",
    "# printing original string\n",
    "print (\"The original string is :\",str1)\n",
    "  \n",
    "res = Counter(str1)\n",
    "res = max(res, key = res.get) \n",
    "  \n",
    "# printing result \n",
    "print (\"The maximum of all characters in GeeksforGeeks is:\",res)\n",
    "\n"
   ]
  },
  {
   "cell_type": "code",
   "execution_count": 3,
   "id": "6e825065",
   "metadata": {},
   "outputs": [
    {
     "name": "stdout",
     "output_type": "stream",
     "text": [
      "String is not accepted.\n"
     ]
    }
   ],
   "source": [
    "#prg48:\n",
    "# Python3 program to check if a string contains any special character\n",
    " \n",
    "# import required package\n",
    "import re\n",
    "def spl_char(string):\n",
    " \n",
    "    regex = re.compile('[@_!#$%^&*()<>?/\\|}{~:]')\n",
    "     \n",
    "    if(regex.search(string) == None):\n",
    "        print(\"String is accepted\")\n",
    "         \n",
    "    else:\n",
    "        print(\"String is not accepted.\")\n",
    "string = \"Geeks$For$Geeks\"\n",
    "     \n",
    "# calling  function\n",
    "spl_char(string)\n",
    "\n",
    "     \n"
   ]
  },
  {
   "cell_type": "code",
   "execution_count": 15,
   "id": "55e4b026",
   "metadata": {},
   "outputs": [
    {
     "name": "stdout",
     "output_type": "stream",
     "text": [
      "['python', 'good', 'always']\n"
     ]
    }
   ],
   "source": [
    "#prg49\n",
    "#Python program to find all string which are greater than given length k\n",
    "\n",
    "def string_k(k,str1):\n",
    "    string=[]\n",
    "    text=str1.split(\" \")\n",
    "    \n",
    "    for i in text:\n",
    "        if len(i)>k:\n",
    "            string.append(i)\n",
    "    return string\n",
    "k=3\n",
    "string=\"python is good is always\"\n",
    "print(string_k(k,string))"
   ]
  },
  {
   "cell_type": "code",
   "execution_count": 18,
   "id": "2b22a016",
   "metadata": {},
   "outputs": [
    {
     "name": "stdout",
     "output_type": "stream",
     "text": [
      "welcomeopython\n"
     ]
    }
   ],
   "source": [
    "#prg 50#method1\n",
    "# Python3 program for removing i-th  indexed character from a string\n",
    "def remove(string,i):\n",
    "    a=string[:i]\n",
    "    b=string[i+1:]\n",
    "    return a+b\n",
    "string= \"welcometopython\"\n",
    "i=7\n",
    "print(remove(string,i))\n",
    "\n"
   ]
  },
  {
   "cell_type": "code",
   "execution_count": 25,
   "id": "77a97094",
   "metadata": {},
   "outputs": [
    {
     "name": "stdout",
     "output_type": "stream",
     "text": [
      "welcomeopyhon\n"
     ]
    }
   ],
   "source": [
    "#method2\n",
    "def remove(string,i):\n",
    "    for j in range(len(string)):\n",
    "        if j==i:\n",
    "            string=string.replace(string[i],\"\")\n",
    "    return string\n",
    "string= \"welcometopython\"\n",
    "i=7\n",
    "print(remove(string,i))\n"
   ]
  },
  {
   "cell_type": "code",
   "execution_count": 1,
   "id": "c6d9b631",
   "metadata": {},
   "outputs": [
    {
     "name": "stdout",
     "output_type": "stream",
     "text": [
      "['pythoniseasy']\n",
      "p-y-t-h-o-n-i-s-e-a-s-y\n"
     ]
    }
   ],
   "source": [
    "#prg51\n",
    "#Python program to split and join a string\n",
    "\n",
    "def split(string):\n",
    "    input_str= string.split(\" \")\n",
    "    return input_str\n",
    "\n",
    "def join_str(input_str):\n",
    "    string = '-'.join(input_str)\n",
    "    #string=\"_\".join(input_str)\n",
    "    return string\n",
    "\n",
    "string=\"pythoniseasy\"\n",
    "print(split(string))\n",
    "print(join_str(string))\n",
    "\n",
    "\n"
   ]
  },
  {
   "cell_type": "code",
   "execution_count": 4,
   "id": "3f90f2f3",
   "metadata": {},
   "outputs": [
    {
     "name": "stdout",
     "output_type": "stream",
     "text": [
      "yes\n"
     ]
    }
   ],
   "source": [
    "#prg52#method1\n",
    "#Python program to check  if a string is binary or not\n",
    "\n",
    "def binary(string):\n",
    "    \n",
    "    p =set(string)\n",
    "    s ={\"0\",\"1\"}\n",
    "    if s==p or p==1 or p==0:\n",
    "        print(\"yes\")\n",
    "    else:\n",
    "        print(\"no\")\n",
    "        \n",
    "string = \"101010000111\"\n",
    " # function calling\n",
    "binary(string)\n",
    " \n"
   ]
  },
  {
   "cell_type": "code",
   "execution_count": 11,
   "id": "a6939cb9",
   "metadata": {},
   "outputs": [
    {
     "name": "stdout",
     "output_type": "stream",
     "text": [
      "yes\n"
     ]
    }
   ],
   "source": [
    " #method2\n",
    "def check2(string) :\n",
    " \n",
    "    t = '01'\n",
    "    count = 0\n",
    " \n",
    "    for char in string :\n",
    "        if char  in t :\n",
    "            count = 1\n",
    "            break\n",
    "        else :\n",
    "            pass\n",
    "    if count :\n",
    "        print(\"yes\")\n",
    "    else :\n",
    "        print(\"no\")\n",
    "#string = \"001021010001010\"\n",
    "string = \"101010000111\"\n",
    "\n",
    "check2(string)\n"
   ]
  },
  {
   "cell_type": "code",
   "execution_count": 14,
   "id": "b8551f78",
   "metadata": {},
   "outputs": [
    {
     "name": "stdout",
     "output_type": "stream",
     "text": [
      "Left Rotation :  eksforGeeksGe\n",
      "Right Rotation :  ksGeeksforGee\n"
     ]
    }
   ],
   "source": [
    "#prg53\n",
    "#string slicing in Python to rotate a string\n",
    "def rotate(input,d):\n",
    "    lfirst=input[0:d]\n",
    "    lsecond=input[d:]\n",
    "    \n",
    "    rfirst=input[0:len(input)-d]\n",
    "    rsecond=input[len(input)-d:]\n",
    "    print (\"Left Rotation : \", (lsecond + lfirst))\n",
    "    print (\"Right Rotation : \", (rsecond + rfirst)) \n",
    "  \n",
    "input = 'GeeksforGeeks'\n",
    "d=2\n",
    "rotate(input,d) \n"
   ]
  },
  {
   "cell_type": "code",
   "execution_count": 19,
   "id": "7585e039",
   "metadata": {},
   "outputs": [],
   "source": [
    "#prg 54\n",
    "# function illustrating how exec() functions.\n",
    "def exec_code():#function doesn’t return anything. The code below solves the problem and explains the exec() function\n",
    "    LOC = \"\"\"\n",
    "def factorial(num):\n",
    "    fact=1\n",
    "    for i in range(1,num+1):\n",
    "        fact = fact*i\n",
    "    return fact\n",
    "print(factorial(5))\n",
    "\"\"\"\n",
    "    exec(LOC)\n",
    "\n",
    "    exec_code()\n"
   ]
  },
  {
   "cell_type": "code",
   "execution_count": 1,
   "id": "f9516b3a",
   "metadata": {},
   "outputs": [
    {
     "ename": "SyntaxError",
     "evalue": "invalid syntax (365769294.py, line 13)",
     "output_type": "error",
     "traceback": [
      "\u001b[1;36m  Input \u001b[1;32mIn [1]\u001b[1;36m\u001b[0m\n\u001b[1;33m    print WC.keys()\u001b[0m\n\u001b[1;37m          ^\u001b[0m\n\u001b[1;31mSyntaxError\u001b[0m\u001b[1;31m:\u001b[0m invalid syntax\n"
     ]
    }
   ],
   "source": [
    "#prg55\n",
    "#Python – Find no of occurance duplicate characters in string\n",
    "\n",
    "from collections import Counter\n",
    "def find_dup_char(input):\n",
    "  \n",
    "    WC = Counter(input)#it will crreate dict\n",
    "    j = 0\n",
    "    \n",
    "    for i in WC.values():\n",
    "        j = j + 1\n",
    "        if( i > 1 ):\n",
    "            print WC.keys()\n",
    "            \n",
    "input = 'geeksforgeeks'\n",
    "find_dup_char(input)\n"
   ]
  },
  {
   "cell_type": "code",
   "execution_count": 31,
   "id": "513dba82",
   "metadata": {},
   "outputs": [
    {
     "name": "stdout",
     "output_type": "stream",
     "text": [
      "input string is: geeksforgeeks\n",
      "replaced string is accdsforaccds\n"
     ]
    }
   ],
   "source": [
    "#prg56\n",
    "#Replace all occurrences of a substring in a string\n",
    "in_str = \"geeksforgeeks\"\n",
    "print(\"input string is:\",in_str)\n",
    "\n",
    "temp= str.maketrans(\"geek\",\"abcd\")#maketrans inbuild function it will swap the strings\n",
    "in_str = in_str.translate(temp)\n",
    "\n",
    "print(\"replaced string is\",in_str)\n",
    "\n"
   ]
  },
  {
   "cell_type": "code",
   "execution_count": 34,
   "id": "e9a3c0af",
   "metadata": {},
   "outputs": [
    {
     "name": "stdout",
     "output_type": "stream",
     "text": [
      "The original dictionary is : {'gfg': [5, 6, 7, 8], 'is': [10, 11, 7, 5], 'best': [6, 12, 10, 8], 'for': [1, 2, 5]}\n",
      "The unique values list is : [1, 2, 5, 6, 7, 8, 10, 11, 12]\n"
     ]
    }
   ],
   "source": [
    "#prg57#method1\n",
    "#Extract Unique values dictionary values\n",
    "test_dict = {'gfg' : [5, 6, 7, 8],\n",
    "             'is' : [10, 11, 7, 5],\n",
    "             'best' : [6, 12, 10, 8],\n",
    "             'for' : [1, 2, 5]}\n",
    "print(\"The original dictionary is : \" + str(test_dict))\n",
    "  \n",
    "# Extract Unique values dictionary values\n",
    "# Using set comprehension + values() + sorted()\n",
    "res = list(sorted({ele for val in test_dict.values() for ele in val}))\n",
    "print(\"The unique values list is : \" + str(res)) \n",
    "\n",
    "    "
   ]
  },
  {
   "cell_type": "code",
   "execution_count": 36,
   "id": "dfa2814f",
   "metadata": {},
   "outputs": [
    {
     "name": "stdout",
     "output_type": "stream",
     "text": [
      "The original dictionary is : {'gfg': [5, 6, 7, 8], 'is': [10, 11, 7, 5], 'best': [6, 12, 10, 8], 'for': [1, 2, 5]}\n",
      "The unique values list is : [1, 2, 5, 6, 7, 8, 10, 11, 12]\n"
     ]
    }
   ],
   "source": [
    "from itertools import chain\n",
    "test_dict = {'gfg' : [5, 6, 7, 8],\n",
    "             'is' : [10, 11, 7, 5],\n",
    "             'best' : [6, 12, 10, 8],\n",
    "             'for' : [1, 2, 5]}\n",
    "print(\"The original dictionary is : \" + str(test_dict))\n",
    "res = list(sorted(set(chain(*test_dict.values()))))\n",
    "print(\"The unique values list is :\",res) \n"
   ]
  },
  {
   "cell_type": "code",
   "execution_count": 38,
   "id": "0eaed72b",
   "metadata": {},
   "outputs": [
    {
     "name": "stdout",
     "output_type": "stream",
     "text": [
      "Sum : 600\n"
     ]
    }
   ],
   "source": [
    "#prg58#method1\n",
    " #Program to find sum of all items in a Dictionary\n",
    "def sum_dict(mydict):\n",
    "    list=[]\n",
    "    for i in (mydict):\n",
    "        list.append(mydict[i])\n",
    "        final=sum(list)\n",
    "    return final\n",
    "\n",
    "dict = {'a': 100, 'b':200, 'c':300}\n",
    "print(\"Sum :\", sum_dict(dict))\n",
    "\n"
   ]
  },
  {
   "cell_type": "code",
   "execution_count": 39,
   "id": "270842bf",
   "metadata": {},
   "outputs": [
    {
     "name": "stdout",
     "output_type": "stream",
     "text": [
      "Sum : 600\n"
     ]
    }
   ],
   "source": [
    "#method2\n",
    "def sum_dict(mydict):\n",
    "    sum=0\n",
    "    for i in (mydict):\n",
    "        sum+=dict[i]\n",
    "    return sum\n",
    "dict = {'a': 100, 'b':200, 'c':300}\n",
    "print(\"Sum :\", sum_dict(dict))\n",
    "\n"
   ]
  },
  {
   "cell_type": "code",
   "execution_count": 44,
   "id": "6b23e39b",
   "metadata": {},
   "outputs": [
    {
     "name": "stdout",
     "output_type": "stream",
     "text": [
      "The dictionary before performing remove is :  {'Arushi': 22, 'Anuradha': 21, 'Mani': 21, 'Haritha': 21}\n",
      "using del is {'Arushi': 22, 'Anuradha': 21, 'Haritha': 21}\n"
     ]
    }
   ],
   "source": [
    "#prg59#reomoves keys in dict using del\n",
    "test_dict = {\"Arushi\" : 22, \"Anuradha\" : 21, \"Mani\" : 21, \"Haritha\" : 21}\n",
    "print (\"The dictionary before performing remove is : \" ,test_dict)\n",
    "\n",
    "del test_dict[\"Mani\"]\n",
    "print(\"using del is\",test_dict)\n"
   ]
  },
  {
   "cell_type": "code",
   "execution_count": 45,
   "id": "0dc24153",
   "metadata": {},
   "outputs": [
    {
     "name": "stdout",
     "output_type": "stream",
     "text": [
      "The dictionary before performing remove is :  {'Arushi': 22, 'Anuradha': 21, 'Mani': 21, 'Haritha': 21}\n",
      "using pop is {'Arushi': 22, 'Anuradha': 21, 'Haritha': 21}\n"
     ]
    }
   ],
   "source": [
    "#method2 using pop\n",
    "test_dict = {\"Arushi\" : 22, \"Anuradha\" : 21, \"Mani\" : 21, \"Haritha\" : 21}\n",
    "print (\"The dictionary before performing remove is : \" ,test_dict)\n",
    "\n",
    "test_dict.pop(\"Mani\")\n",
    "print(\"using pop is\",test_dict)\n"
   ]
  },
  {
   "cell_type": "code",
   "execution_count": 54,
   "id": "a6a7ab5e",
   "metadata": {},
   "outputs": [
    {
     "name": "stdout",
     "output_type": "stream",
     "text": [
      "The list printed sorting by age: \n",
      "[{'name': 'Nikhil', 'age': 19}, {'name': 'Nandini', 'age': 20}, {'name': 'Manjeet', 'age': 20}]\n",
      "\r\n",
      "The list printed sorting by age and name: \n",
      "[{'name': 'Nikhil', 'age': 19}, {'name': 'Manjeet', 'age': 20}, {'name': 'Nandini', 'age': 20}]\n",
      "\r\n",
      "The list printed sorting by age in descending order: \n",
      "[{'name': 'Nandini', 'age': 20}, {'name': 'Manjeet', 'age': 20}, {'name': 'Nikhil', 'age': 19}]\n"
     ]
    }
   ],
   "source": [
    "#prg 60\n",
    "#Ways to sort list of dictionaries by values in Python – Using itemgetter\n",
    "  \n",
    "# importing \"operator\" for implementing itemgetter\n",
    "from operator import itemgetter\n",
    "\n",
    "lis = [{ \"name\" : \"Nandini\", \"age\" : 20}, \n",
    "{ \"name\" : \"Manjeet\", \"age\" : 20 },\n",
    "{ \"name\" : \"Nikhil\" , \"age\" : 19 }]\n",
    "  \n",
    "# using sorted and itemgetter to print list sorted by age \n",
    "print (\"The list printed sorting by age: \")\n",
    "print (sorted(lis, key=itemgetter('age')))\n",
    "  \n",
    "print (\"\\r\")\n",
    "  \n",
    "# using sorted and itemgetter to print list sorted by both age and name\n",
    "# notice that \"Manjeet\" now comes before \"Nandini\"\n",
    "print (\"The list printed sorting by age and name: \")\n",
    "print (sorted(lis, key=itemgetter('age', 'name')))#item getter from module\n",
    "  \n",
    "print (\"\\r\")# enter space for print next line\n",
    "  \n",
    "# using sorted and itemgetter to print list sorted by age in descending order\n",
    "print (\"The list printed sorting by age in descending order: \")\n",
    "print(sorted(lis, key=itemgetter('age'),reverse = True))\n",
    "\n"
   ]
  },
  {
   "cell_type": "code",
   "execution_count": 55,
   "id": "1eff44d3",
   "metadata": {},
   "outputs": [
    {
     "name": "stdout",
     "output_type": "stream",
     "text": [
      "None\n",
      "{'d': 6, 'c': 4, 'a': 10, 'b': 8}\n"
     ]
    }
   ],
   "source": [
    "#prg61#merge two dictionary\n",
    "#method1#update\n",
    "def Merge(dict1, dict2):\n",
    "    return(dict2.update(dict1))\n",
    "     \n",
    "dict1 = {'a': 10, 'b': 8}\n",
    "dict2 = {'d': 6, 'c': 4}\n",
    "print(Merge(dict1, dict2))\n",
    "print(dict2)\n"
   ]
  },
  {
   "cell_type": "code",
   "execution_count": 62,
   "id": "bd0fa98c",
   "metadata": {},
   "outputs": [
    {
     "name": "stdout",
     "output_type": "stream",
     "text": [
      "{'a': 10, 'b': 8, 'd': 6, 'c': 4}\n"
     ]
    }
   ],
   "source": [
    "#method2using**\n",
    "def Merge(dict1, dict2):\n",
    "    res={**dict1, **dict2}\n",
    "    return res\n",
    "     \n",
    "dict1 = {'a': 10, 'b': 8}\n",
    "dict2 = {'d': 6, 'c': 4}\n",
    "\n",
    "dict3=Merge(dict1, dict2)\n",
    "print(dict3)\n",
    "\n"
   ]
  },
  {
   "cell_type": "code",
   "execution_count": 3,
   "id": "583097d4",
   "metadata": {},
   "outputs": [
    {
     "name": "stdout",
     "output_type": "stream",
     "text": [
      "The original dictionary is : {'month': [1, 2, 3], 'name': ['Jan', 'Feb', 'March']}\n",
      "Flattened dictionary :  {1: 'Jan', 2: 'Feb', 3: 'March'}\n"
     ]
    }
   ],
   "source": [
    "#prg62\n",
    "# Convert key-values list to flat dictionary\n",
    "  \n",
    "dict1 = {'month' : [1, 2, 3],\n",
    "             'name' : ['Jan', 'Feb', 'March']}\n",
    "print(\"The original dictionary is :\",dict1)\n",
    "\n",
    "res = dict(zip(dict1['month'], dict1['name']))\n",
    "\n",
    "print(\"Flattened dictionary : \",res) \n",
    "\n"
   ]
  },
  {
   "cell_type": "code",
   "execution_count": 7,
   "id": "43f30b48",
   "metadata": {},
   "outputs": [
    {
     "name": "stdout",
     "output_type": "stream",
     "text": [
      "Resultant Dictionary :  OrderedDict([('manjeet', '3'), ('akshat', '1'), ('nikhil', '2')])\n"
     ]
    }
   ],
   "source": [
    "#prg63#method1#insert at the begining of ordered dict\n",
    "from collections import OrderedDict\n",
    "iniordered_dict = OrderedDict([('akshat', '1'), ('nikhil', '2')])\n",
    " \n",
    "# inserting items in starting of dict\n",
    "iniordered_dict.update({'manjeet':'3'})\n",
    "iniordered_dict.move_to_end('manjeet', 0)\n",
    " \n",
    "print (\"Resultant Dictionary : \",iniordered_dict)\n",
    "\n"
   ]
  },
  {
   "cell_type": "code",
   "execution_count": 10,
   "id": "cd31772c",
   "metadata": {},
   "outputs": [
    {
     "name": "stdout",
     "output_type": "stream",
     "text": [
      "Resultant Dictionary : OrderedDict([('manjeet', '4'), ('akash', '4'), ('akshat', '1'), ('nikhil', '2')])\n"
     ]
    }
   ],
   "source": [
    "#method2\n",
    "dict1 = OrderedDict([('akshat', '1'), ('nikhil', '2')])\n",
    "dict2 = OrderedDict([(\"manjeet\", '4'), (\"akash\", '4')])\n",
    " \n",
    "# adding in beginning of dict\n",
    "res = OrderedDict(list(dict2.items()) + list(dict1.items()))#convert in to list and add\n",
    "\n",
    "print (\"Resultant Dictionary :\",res)\n",
    "\n"
   ]
  },
  {
   "cell_type": "code",
   "execution_count": 4,
   "id": "e56bf06e",
   "metadata": {},
   "outputs": [
    {
     "name": "stdout",
     "output_type": "stream",
     "text": [
      "The original dictionary is :  {'Gfg': 1, 'is': 3, 'Best': 2}\n",
      "the keys and values are ['Gfg', 'is', 'Best', 1, 3, 2]\n"
     ]
    }
   ],
   "source": [
    "#prg 64#method1\n",
    "# Append Dictionary Keys and Values ( In order ) in dictionary\n",
    "\n",
    "dict1 = {\"Gfg\" : 1, \"is\" :  3, \"Best\" : 2}\n",
    " # printing original dictionary\n",
    "print(\"The original dictionary is : \", dict1)\n",
    "  \n",
    "# + operator is used to perform adding keys and values\n",
    "res=list(dict1.keys())+list(dict1.values())\n",
    "\n",
    "print(\"the keys and values are\",res)\n"
   ]
  },
  {
   "cell_type": "code",
   "execution_count": 5,
   "id": "81630019",
   "metadata": {},
   "outputs": [
    {
     "name": "stdout",
     "output_type": "stream",
     "text": [
      "The original dictionary is :  {'Gfg': 1, 'is': 3, 'Best': 2}\n",
      "the keys and values are ['Gfg', 'is', 'Best', 1, 3, 2]\n"
     ]
    }
   ],
   "source": [
    "#method2\n",
    "from itertools import chain#using chain method\n",
    "dict1 = {\"Gfg\" : 1, \"is\" :  3, \"Best\" : 2}\n",
    " # printing original dictionary\n",
    "print(\"The original dictionary is : \", dict1)\n",
    "  \n",
    "# + operator is used to perform adding keys and values\n",
    "res=list(chain(dict1.keys(),dict1.values()))\n",
    "\n",
    "print(\"the keys and values are\",res)\n",
    "\n",
    " "
   ]
  },
  {
   "cell_type": "code",
   "execution_count": 7,
   "id": "ccd003e3",
   "metadata": {},
   "outputs": [
    {
     "name": "stdout",
     "output_type": "stream",
     "text": [
      "The original dictionary is :  {'gfg': [7, 6, 3], 'is': [2, 10, 3], 'best': [19, 4]}\n",
      "sorted dict key is {'best': [4, 19], 'gfg': [3, 6, 7], 'is': [2, 3, 10]}\n"
     ]
    }
   ],
   "source": [
    "#prg65#method1\n",
    "#sort dictionary key and value\n",
    "dict1 = {'gfg': [7, 6, 3], \n",
    "             'is': [2, 10, 3], \n",
    "             'best': [19, 4]}\n",
    "  \n",
    "# printing original dictionary\n",
    "print(\"The original dictionary is : \",dict1)\n",
    "res=dict()\n",
    "for key in sorted(dict1):\n",
    "    res[key]=sorted(dict1[key])\n",
    "print(\"sorted dict key is\",res)"
   ]
  },
  {
   "cell_type": "code",
   "execution_count": 8,
   "id": "95b5d285",
   "metadata": {},
   "outputs": [
    {
     "name": "stdout",
     "output_type": "stream",
     "text": [
      "The original dictionary is :  {'gfg': [7, 6, 3], 'is': [2, 10, 3], 'best': [19, 4]}\n",
      "sorted dict key is {'best': [4, 19], 'gfg': [3, 6, 7], 'is': [2, 3, 10]}\n"
     ]
    }
   ],
   "source": [
    "#method2\n",
    "dict1 = {'gfg': [7, 6, 3], \n",
    "             'is': [2, 10, 3], \n",
    "             'best': [19, 4]}\n",
    "  \n",
    "# printing original dictionary\n",
    "print(\"The original dictionary is : \",dict1)\n",
    "res = {key : sorted(dict1[key]) for key in sorted(dict1)}\n",
    "\n",
    "print(\"sorted dict key is\",res)\n",
    " "
   ]
  },
  {
   "cell_type": "code",
   "execution_count": 10,
   "id": "20610aa5",
   "metadata": {},
   "outputs": [
    {
     "name": "stdout",
     "output_type": "stream",
     "text": [
      "0091\n",
      "Not Found\n"
     ]
    }
   ],
   "source": [
    "#prg66# handling missing keys\n",
    "#method2#get method\n",
    "country_code = {'India' : '0091',\n",
    "                'Australia' : '0025',\n",
    "                'Nepal' : '00977'}\n",
    " \n",
    "# search dictionary for country code of India\n",
    "print(country_code.get('India','Not Found'))\n",
    " \n",
    "# search dictionary for country code of Japan\n",
    "print(country_code.get('Japan', 'Not Found'))\n",
    "\n"
   ]
  },
  {
   "cell_type": "code",
   "execution_count": 11,
   "id": "3319bff1",
   "metadata": {},
   "outputs": [
    {
     "name": "stdout",
     "output_type": "stream",
     "text": [
      "Not Found\n",
      "0091\n"
     ]
    }
   ],
   "source": [
    "#method2 set deault\n",
    "\n",
    "country_code = {'India' : '0091',\n",
    "                'Australia' : '0025',\n",
    "                'Nepal' : '00977'}\n",
    " \n",
    "## search dictionary for country code of Japan\n",
    "print(country_code.setdefault('Japan', 'Not Found'))\n",
    "print(country_code[\"India\"])\n"
   ]
  },
  {
   "cell_type": "code",
   "execution_count": 12,
   "id": "a4efc1df",
   "metadata": {},
   "outputs": [
    {
     "name": "stdout",
     "output_type": "stream",
     "text": [
      "{(10, 20, 30): 0, (5, 2, 4): 3}\n"
     ]
    }
   ],
   "source": [
    "#prg67# multiple key input\n",
    "#method1\n",
    "dict = {}\n",
    "#Insert first triplet in dictionary\n",
    "x, y, z = 10, 20, 30\n",
    "dict[x, y, z] = x + y - z;\n",
    " \n",
    "# Insert second triplet in dictionary\n",
    "x, y, z = 5, 2, 4\n",
    "dict[x, y, z] = x + y - z;\n",
    "print(dict)\n",
    "\n"
   ]
  },
  {
   "cell_type": "code",
   "execution_count": 13,
   "id": "d1d9784c",
   "metadata": {},
   "outputs": [
    {
     "name": "stdout",
     "output_type": "stream",
     "text": [
      "{(\"19.07'53.2\", \"72.54'51.0\"): 'Mumbai', (\"28.33'34.1\", \"77.06'16.6\"): 'Delhi'}\n",
      "\n",
      "\n",
      "[\"19.07'53.2\", \"28.33'34.1\"]\n",
      "[\"72.54'51.0\", \"77.06'16.6\"]\n",
      "['Mumbai', 'Delhi']\n"
     ]
    }
   ],
   "source": [
    "#meythod2\n",
    "places = {(\"19.07'53.2\", \"72.54'51.0\"):\"Mumbai\", \\\n",
    "          (\"28.33'34.1\", \"77.06'16.6\"):\"Delhi\"}\n",
    " \n",
    "print(places)\n",
    " \n",
    "lat = []\n",
    "long = []\n",
    "plc = []\n",
    "for i in places:\n",
    "    lat.append(i[0])\n",
    "    long.append(i[1])\n",
    "    plc.append(places[i[0], i[1]])\n",
    " \n",
    "print(lat)\n",
    "print(long)\n",
    "print(plc)\n",
    "\n",
    "\n"
   ]
  },
  {
   "cell_type": "code",
   "execution_count": 7,
   "id": "934d7d80",
   "metadata": {},
   "outputs": [
    {
     "name": "stdout",
     "output_type": "stream",
     "text": [
      "Python is great and Java also\n"
     ]
    }
   ],
   "source": [
    "#prg68#method1\n",
    "#reomove all duplicates from dict\n",
    "from collections import Counter\n",
    "def remove_dup(input):\n",
    "    \n",
    "    input= input.split(\" \")\n",
    "    c1 = Counter(input)\n",
    "    res=\" \".join(c1.keys())\n",
    "    print(res)\n",
    "input = 'Python is great and Java is also great'\n",
    "remove_dup(input)\n",
    "    "
   ]
  },
  {
   "cell_type": "code",
   "execution_count": 19,
   "id": "4f05de71",
   "metadata": {},
   "outputs": [
    {
     "name": "stdout",
     "output_type": "stream",
     "text": [
      "Python is great and Java also\n"
     ]
    }
   ],
   "source": [
    "#method2\n",
    "s = \"Python is great and Java is also great\"\n",
    "l= s.split()\n",
    "k = []\n",
    "for i in l:\n",
    "    if (s.count(i)>=1) and (i not in k):\n",
    "        k.append(i)\n",
    "print(\" \".join(k))"
   ]
  },
  {
   "cell_type": "code",
   "execution_count": 21,
   "id": "251420b9",
   "metadata": {},
   "outputs": [
    {
     "name": "stdout",
     "output_type": "stream",
     "text": [
      "paizwlc\n"
     ]
    }
   ],
   "source": [
    "#prg69\n",
    "# to find mirror characters in a string\n",
    "input = 'paradox'\n",
    "k = 3\n",
    "original = 'abcdefghijklmnopqrstuvwxyz'\n",
    "reverse = 'zyxwvutsrqponmlkjihgfedcba'\n",
    "dictChars = dict(zip(original,reverse))\n",
    " \n",
    " # separate out string after length k to change\n",
    "# characters in mirror\n",
    "prefix = input[0:k-1]\n",
    "suffix = input[k-1:]\n",
    "mirror =\"\"\n",
    "\n",
    "for i in range(0,len(suffix)):\n",
    "         mirror = mirror + dictChars[suffix[i]]\n",
    "print(prefix+mirror)\n",
    " "
   ]
  },
  {
   "cell_type": "code",
   "execution_count": 1,
   "id": "8e8d3c06",
   "metadata": {},
   "outputs": [
    {
     "name": "stdout",
     "output_type": "stream",
     "text": [
      "1 5\n",
      "5 2\n",
      "3 3\n",
      "4 3\n",
      "2 4\n"
     ]
    }
   ],
   "source": [
    "#prg70#method1\n",
    "#Python program to count the frequency ofelements in a list using a dictionary\n",
    "def freq(list1):\n",
    "    freq={}\n",
    "    for item in list1:\n",
    "        if item in freq:\n",
    "            freq[item]+=1\n",
    "        else:\n",
    "            freq[item]=1\n",
    "    for key, value in freq.items():\n",
    "        print(key,value)\n",
    "list1 =[1, 1, 1, 5, 5, 3, 1, 3, 3, 1, 4, 4, 4, 2, 2, 2, 2]\n",
    " \n",
    "freq(list1)"
   ]
  },
  {
   "cell_type": "code",
   "execution_count": 7,
   "id": "f6a7a1d7",
   "metadata": {},
   "outputs": [
    {
     "name": "stdout",
     "output_type": "stream",
     "text": [
      "1 5\n",
      "5 2\n",
      "3 3\n",
      "4 3\n",
      "2 4\n"
     ]
    }
   ],
   "source": [
    "#method2\n",
    "def freq(list1):\n",
    "    frequency={}\n",
    "    for item in list1:\n",
    "        frequency[item]=list1.count(item)\n",
    "      \n",
    "    for key, value in frequency.items():\n",
    "        print(key,value)\n",
    "list1 =[1, 1, 1, 5, 5, 3, 1, 3, 3, 1, 4, 4, 4, 2, 2, 2, 2]\n",
    "freq(list1)"
   ]
  },
  {
   "cell_type": "code",
   "execution_count": 9,
   "id": "48ff7981",
   "metadata": {},
   "outputs": [
    {
     "name": "stdout",
     "output_type": "stream",
     "text": [
      "{'akash': [10], 'gaurav': [12], 'anand': [14], 'suraj': [20], 'akhil': [25], 'ashish': [30]}\n"
     ]
    }
   ],
   "source": [
    "#prg71#method1\n",
    "#Convert a list of Tuples into Dictionary\n",
    "def convert (tuple,dic):\n",
    "    for a,b in tuple:\n",
    "       dic.setdefault(a, []).append(b)\n",
    "    return dic\n",
    "\n",
    "tups = [(\"akash\", 10), (\"gaurav\", 12), (\"anand\", 14), \n",
    "     (\"suraj\", 20), (\"akhil\", 25), (\"ashish\", 30)]\n",
    "dictionary = {}\n",
    "print (convert(tups, dictionary))"
   ]
  },
  {
   "cell_type": "code",
   "execution_count": 10,
   "id": "58959180",
   "metadata": {},
   "outputs": [
    {
     "name": "stdout",
     "output_type": "stream",
     "text": [
      "{'Nakul': [93], 'Shivansh': [45], 'Samved': [65], 'Yash': [88], 'Vidit': [70], 'Pradeep': [52]}\n"
     ]
    }
   ],
   "source": [
    "#method2\n",
    "list_1=[(\"Nakul\",93), (\"Shivansh\",45), (\"Samved\",65),\n",
    "           (\"Yash\",88), (\"Vidit\",70), (\"Pradeep\",52)]\n",
    "dict_1=dict()\n",
    "  \n",
    "for student,score in list_1:\n",
    "    dict_1.setdefault(student, []).append(score)\n",
    "print(dict_1)"
   ]
  },
  {
   "cell_type": "code",
   "execution_count": 11,
   "id": "6f7cf901",
   "metadata": {},
   "outputs": [
    {
     "name": "stdout",
     "output_type": "stream",
     "text": [
      "{'akash': 10, 'gaurav': 12, 'anand': 14, 'suraj': 20, 'akhil': 25, 'ashish': 30}\n"
     ]
    }
   ],
   "source": [
    "#method3\n",
    "def Convert(tup, dic):\n",
    "    dic = dict(tup)\n",
    "    return dic\n",
    " \n",
    "tuple1 = [(\"akash\", 10), (\"gaurav\", 12), (\"anand\", 14), \n",
    "    (\"suraj\", 20), (\"akhil\", 25), (\"ashish\", 30)]\n",
    "dictionary = {}\n",
    "print (Convert(tuple1, dictionary))\n",
    "\n"
   ]
  },
  {
   "cell_type": "code",
   "execution_count": 7,
   "id": "4dd31bb3",
   "metadata": {},
   "outputs": [
    {
     "name": "stdout",
     "output_type": "stream",
     "text": [
      "possibble\n"
     ]
    }
   ],
   "source": [
    "#prg72\n",
    "# (Make a string using deletion and rearrangement)\n",
    "from collections import Counter\n",
    "  \n",
    "def makeString(str1,str2):\n",
    "    \n",
    "    dict1=Counter(str1)\n",
    "    dict2=Counter(str2)\n",
    "    res = dict1 & dict2\n",
    "    return res==dict1\n",
    "str1 = 'ABHISHEKsinGH'\n",
    "str2 = 'gfhfBHkooIHnfndSHEKsiAnG'\n",
    "if(makeString(str1,str2)==True):\n",
    "    print(\"possibble\")\n",
    "else:\n",
    "    print(\"Not possible\")\n",
    "              \n",
    "    \n",
    "    "
   ]
  },
  {
   "cell_type": "code",
   "execution_count": 16,
   "id": "2b423a58",
   "metadata": {},
   "outputs": [
    {
     "name": "stdout",
     "output_type": "stream",
     "text": [
      "No\n"
     ]
    }
   ],
   "source": [
    "#prg73\n",
    "#dictionary, set and counter to check if frequencies can become same\n",
    "from collections import Counter\n",
    "  \n",
    "def allSame(input):\n",
    "      \n",
    "    dict=Counter(input)\n",
    "    same = list(set(dict.values()))\n",
    "    if len(same)>2:\n",
    "        print('No')\n",
    "    elif len (same)==2 and same[1]-same[0]>1:\n",
    "        print('No')\n",
    "    else:\n",
    "        print('Yes')\n",
    "  \n",
    "    \n",
    "input = 'xxxyyzzt'\n",
    "allSame(input)"
   ]
  },
  {
   "cell_type": "code",
   "execution_count": 25,
   "id": "6837ae95",
   "metadata": {},
   "outputs": [
    {
     "name": "stdout",
     "output_type": "stream",
     "text": [
      "The original list is :  [5, 6, 7]\n",
      "The container after addition :  [5, 6, 7]\n"
     ]
    }
   ],
   "source": [
    "#prg74#method1\n",
    "#Adding Tuple to List and vice – versa\n",
    "test_list = [5, 6, 7]\n",
    "print(\"The original list is : \",test_list)\n",
    "test_tup = (9, 10)\n",
    "res=tuple(list(test_tup)+test_list)\n",
    "print(\"The container after addition : \" ,(test_list))\n"
   ]
  },
  {
   "cell_type": "code",
   "execution_count": 27,
   "id": "141d9de9",
   "metadata": {},
   "outputs": [
    {
     "name": "stdout",
     "output_type": "stream",
     "text": [
      "The original list is :  [5, 6, 7]\n",
      "The container after addition :  [5, 6, 7, 9, 10]\n"
     ]
    }
   ],
   "source": [
    "#method2\n",
    "test_list = [5, 6, 7]\n",
    "print(\"The original list is : \" ,test_list)\n",
    "test_tup = (9, 10)\n",
    "test_list += test_tup\n",
    " \n",
    "print(\"The container after addition : \" ,test_list)"
   ]
  },
  {
   "cell_type": "code",
   "execution_count": 29,
   "id": "3cc75875",
   "metadata": {},
   "outputs": [
    {
     "name": "stdout",
     "output_type": "stream",
     "text": [
      "[(1, 1), (2, 8), (5, 125), (6, 216)]\n"
     ]
    }
   ],
   "source": [
    "#prg75\n",
    "#create a list of tuples from given list having number and its cube in each t#uple\n",
    "list1 = [1, 2, 5, 6]\n",
    "res=[(x,x**3 )for x in list1]\n",
    "print(res)\n"
   ]
  },
  {
   "cell_type": "code",
   "execution_count": null,
   "id": "24888eff",
   "metadata": {},
   "outputs": [],
   "source": []
  }
 ],
 "metadata": {
  "kernelspec": {
   "display_name": "Python 3 (ipykernel)",
   "language": "python",
   "name": "python3"
  },
  "language_info": {
   "codemirror_mode": {
    "name": "ipython",
    "version": 3
   },
   "file_extension": ".py",
   "mimetype": "text/x-python",
   "name": "python",
   "nbconvert_exporter": "python",
   "pygments_lexer": "ipython3",
   "version": "3.8.7"
  }
 },
 "nbformat": 4,
 "nbformat_minor": 5
}
