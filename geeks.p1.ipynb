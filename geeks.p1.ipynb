{
 "cells": [
  {
   "cell_type": "code",
   "execution_count": 1,
   "id": "ce328160",
   "metadata": {},
   "outputs": [
    {
     "name": "stdout",
     "output_type": "stream",
     "text": [
      "35\n"
     ]
    }
   ],
   "source": [
    "#Prg1\n",
    "#addition of two numbers#method1\n",
    "a =20\n",
    "b =15\n",
    "sum = a+b\n",
    "print(sum)\n"
   ]
  },
  {
   "cell_type": "code",
   "execution_count": 4,
   "id": "301bd60c",
   "metadata": {},
   "outputs": [
    {
     "name": "stdout",
     "output_type": "stream",
     "text": [
      "enter the no1:5\n",
      "enter the no2:8\n",
      "13\n"
     ]
    }
   ],
   "source": [
    "\n",
    "#addition of two numbers#method2\n",
    "a =int(input(\"enter the no1:\"))#get nos from users\n",
    "b =int(input(\"enter the no2:\"))\n",
    "sum = a+b\n",
    "print(sum)\n"
   ]
  },
  {
   "cell_type": "code",
   "execution_count": 6,
   "id": "670ee4b7",
   "metadata": {},
   "outputs": [
    {
     "name": "stdout",
     "output_type": "stream",
     "text": [
      "9\n"
     ]
    }
   ],
   "source": [
    "#prg2\n",
    "#maximum two numbers# method1\n",
    "a = 5\n",
    "b=9\n",
    "maximum =max(a,b)\n",
    "print(maximum)\n"
   ]
  },
  {
   "cell_type": "code",
   "execution_count": 7,
   "id": "cf5d58e2",
   "metadata": {},
   "outputs": [
    {
     "name": "stdout",
     "output_type": "stream",
     "text": [
      "10\n"
     ]
    }
   ],
   "source": [
    "def maximum(a, b):#method2 for max\n",
    "     \n",
    "    if a >= b:\n",
    "        return a\n",
    "    else:\n",
    "        return b\n",
    "print(max(10,3))"
   ]
  },
  {
   "cell_type": "code",
   "execution_count": 8,
   "id": "7b5486d3",
   "metadata": {},
   "outputs": [
    {
     "name": "stdout",
     "output_type": "stream",
     "text": [
      "5\n"
     ]
    }
   ],
   "source": [
    "#method3 for max\n",
    "a=3\n",
    "b=5\n",
    "print(a if a >= b else b)\n"
   ]
  },
  {
   "cell_type": "code",
   "execution_count": 12,
   "id": "32d97ba9",
   "metadata": {},
   "outputs": [
    {
     "name": "stdout",
     "output_type": "stream",
     "text": [
      "Factorial of num is 5\n"
     ]
    },
    {
     "data": {
      "text/plain": [
       "120"
      ]
     },
     "execution_count": 12,
     "metadata": {},
     "output_type": "execute_result"
    }
   ],
   "source": [
    "#prg3\n",
    "#factorial prg#method1\n",
    "def factorial(n):\n",
    "    \n",
    "      return 1 if (n==1 or n==0) else n * factorial(n - 1);\n",
    "num = 5\n",
    "print(\"Factorial of num is\",num)\n",
    "factorial((num))\n"
   ]
  },
  {
   "cell_type": "code",
   "execution_count": 15,
   "id": "f2a6daf8",
   "metadata": {},
   "outputs": [
    {
     "name": "stdout",
     "output_type": "stream",
     "text": [
      "Factorial of no is 7\n"
     ]
    },
    {
     "data": {
      "text/plain": [
       "5040"
      ]
     },
     "execution_count": 15,
     "metadata": {},
     "output_type": "execute_result"
    }
   ],
   "source": [
    "#method2\n",
    "def factorial(n):\n",
    "    if n < 0:\n",
    "        return 0\n",
    "    elif n == 0 or n == 1:\n",
    "        return 1\n",
    "    else:\n",
    "        fact = 1\n",
    "        while(n > 1):#n=5\n",
    "            fact *= n\n",
    "            n -= 1#decrement\n",
    "        return fact\n",
    "\n",
    "num =7 \n",
    "print(\"Factorial of no is\",num)\n",
    "factorial((num))\n"
   ]
  },
  {
   "cell_type": "code",
   "execution_count": 16,
   "id": "5e1263ec",
   "metadata": {},
   "outputs": [
    {
     "name": "stdout",
     "output_type": "stream",
     "text": [
      "Factorial of no is 5\n",
      "120\n"
     ]
    }
   ],
   "source": [
    "def factorial(n):#recusive function\n",
    " \n",
    "    # single line to find factorial\n",
    "    return 1 if (n==1 or n==0) else n * factorial(n - 1)\n",
    "\n",
    "num = 5\n",
    "print (\"Factorial of no is\",num)\n",
    "print(factorial(num))\n",
    " \n"
   ]
  },
  {
   "cell_type": "code",
   "execution_count": 18,
   "id": "7678f814",
   "metadata": {},
   "outputs": [
    {
     "name": "stdout",
     "output_type": "stream",
     "text": [
      "Factorial of no is 5\n",
      "120\n"
     ]
    }
   ],
   "source": [
    "#method 4 \n",
    "import math\n",
    " \n",
    "def factorial(n):\n",
    "    return(math.factorial(n))#using inbuilt function\n",
    "\n",
    "num = 5\n",
    "print(\"Factorial of no is\", num)\n",
    "print(factorial(num))\n"
   ]
  },
  {
   "cell_type": "code",
   "execution_count": 19,
   "id": "60620707",
   "metadata": {},
   "outputs": [
    {
     "name": "stdout",
     "output_type": "stream",
     "text": [
      "The principal is 8\n",
      "The time period is 6\n",
      "The rate of interest is 8\n",
      "The Simple Interest is 3.84\n"
     ]
    },
    {
     "data": {
      "text/plain": [
       "3.84"
      ]
     },
     "execution_count": 19,
     "metadata": {},
     "output_type": "execute_result"
    }
   ],
   "source": [
    "#prg4\n",
    "#find simple interest \n",
    "def simple_interest(p,t,r):\n",
    "    print('The principal is', p)\n",
    "    print('The time period is', t)\n",
    "    print('The rate of interest is',r)\n",
    "      \n",
    "    si = (p * t * r)/100#formula for si\n",
    "      \n",
    "    print('The Simple Interest is', si)\n",
    "    return si\n",
    "\n",
    "simple_interest(8, 6, 8)\n"
   ]
  },
  {
   "cell_type": "code",
   "execution_count": 20,
   "id": "20634c6f",
   "metadata": {},
   "outputs": [
    {
     "name": "stdout",
     "output_type": "stream",
     "text": [
      "Area is 78.550000\n"
     ]
    }
   ],
   "source": [
    "#prg5\n",
    "#area of the circle(pir2)\n",
    "def findArea(r):\n",
    "    PI = 3.142#constant\n",
    "    return PI * (r*r)\n",
    "\n",
    "print(\"Area is %.6f\" % findArea(5))#0.6f denotes 6 digits after decimal\n",
    "  \n"
   ]
  },
  {
   "cell_type": "code",
   "execution_count": 21,
   "id": "f6c5f838",
   "metadata": {},
   "outputs": [
    {
     "name": "stdout",
     "output_type": "stream",
     "text": [
      "Compound interest is 6288.946267774416\n"
     ]
    }
   ],
   "source": [
    "#prg6\n",
    "#compound interest\n",
    "def compound_interest(principle, rate, time):\n",
    " \n",
    "    # Calculates compound interest\n",
    "    Amount = principle * (pow((1 + rate / 100), time))#A = P*(1 + R/100)power of t \n",
    "    CI = Amount - principle\n",
    "    print(\"Compound interest is\", CI)\n",
    " \n",
    "compound_interest(10000, 10.25, 5)\n"
   ]
  },
  {
   "cell_type": "code",
   "execution_count": 22,
   "id": "d5ef2a9a",
   "metadata": {},
   "outputs": [
    {
     "name": "stdout",
     "output_type": "stream",
     "text": [
      "The ASCII value of 'g' is 103\n"
     ]
    }
   ],
   "source": [
    "#prg7\n",
    "#ascii values#method1\n",
    "c = 'g'\n",
    "# print the ASCII value of assigned character in c\n",
    "print(\"The ASCII value of '\" + c + \"' is\", ord(c))\n"
   ]
  },
  {
   "cell_type": "code",
   "execution_count": 2,
   "id": "f5392637",
   "metadata": {},
   "outputs": [
    {
     "name": "stdout",
     "output_type": "stream",
     "text": [
      "enter the stringpython\n",
      "p \t 112\n",
      "y \t 121\n",
      "t \t 116\n",
      "h \t 104\n",
      "o \t 111\n",
      "n \t 110\n"
     ]
    }
   ],
   "source": [
    "#method2\n",
    "text = input(\"enter the string\")\n",
    "for char in text:\n",
    "    ascii = ord(char)\n",
    "    print(char, \"\\t\", ascii)\n"
   ]
  },
  {
   "cell_type": "code",
   "execution_count": 29,
   "id": "d22938f8",
   "metadata": {},
   "outputs": [
    {
     "name": "stdout",
     "output_type": "stream",
     "text": [
      "30\n"
     ]
    }
   ],
   "source": [
    "#prg8 #SQUARe and sum\n",
    "def squaresum(n) :\n",
    "  \n",
    "    sm = 0\n",
    "    for i in range(1, n+1) :\n",
    "        sm = sm + (i * i)\n",
    "    return sm\n",
    "print(squaresum(4))\n",
    " "
   ]
  },
  {
   "cell_type": "code",
   "execution_count": 30,
   "id": "f8f25b36",
   "metadata": {},
   "outputs": [
    {
     "name": "stdout",
     "output_type": "stream",
     "text": [
      "30.0\n"
     ]
    }
   ],
   "source": [
    "#method2\n",
    "def squaresum(n):\n",
    "    return (n * (n + 1) / 2) * (2 * n + 1) / 3#using formula\n",
    "  \n",
    "n = 4\n",
    "print(squaresum(n));\n"
   ]
  },
  {
   "cell_type": "code",
   "execution_count": 31,
   "id": "afb6412a",
   "metadata": {},
   "outputs": [
    {
     "name": "stdout",
     "output_type": "stream",
     "text": [
      "225\n"
     ]
    }
   ],
   "source": [
    "#prg9\n",
    "#sum of cube numbers#method 1 direct\n",
    "\n",
    "def cubessum(n):\n",
    "    sum = 0\n",
    "    for i in range(1, n+1):\n",
    "        sum +=i*i*i\n",
    "          \n",
    "    return sum\n",
    "print(cubessum(5))\n",
    " "
   ]
  },
  {
   "cell_type": "code",
   "execution_count": 33,
   "id": "ee11726e",
   "metadata": {},
   "outputs": [
    {
     "name": "stdout",
     "output_type": "stream",
     "text": [
      "1296\n"
     ]
    }
   ],
   "source": [
    "def sumOfSeries(n):#method2 using formula\n",
    "    x = (n * (n + 1)  / 2)\n",
    "    return (int)(x * x)#formula((n*n+1)/2 )power of 2\n",
    "n = 8\n",
    "print(sumOfSeries(n))\n"
   ]
  },
  {
   "cell_type": "code",
   "execution_count": 8,
   "id": "df8b0e55",
   "metadata": {},
   "outputs": [
    {
     "name": "stdout",
     "output_type": "stream",
     "text": [
      "30\n"
     ]
    }
   ],
   "source": [
    "#prg10#find pos\n",
    "def findPosition(k, n):\n",
    "    f1 = 0\n",
    "    f2 = 1\n",
    "    i =2;\n",
    "    while i!=0:\n",
    "        f3 = f1 + f2;\n",
    "        f1 = f2;\n",
    "        f2 = f3;\n",
    " \n",
    "        if f2%k == 0:\n",
    "            return n*i\n",
    " \n",
    "        i+=1\n",
    "         \n",
    "    return\n",
    " \n",
    " \n",
    "# Multiple no.\n",
    "n = 5\n",
    "# Number of whose multiple we are finding\n",
    "k = 4\n",
    " \n",
    "print(findPosition(k,n))\n",
    " \n",
    "\n",
    " "
   ]
  },
  {
   "cell_type": "code",
   "execution_count": 18,
   "id": "f1a47255",
   "metadata": {},
   "outputs": [
    {
     "name": "stdout",
     "output_type": "stream",
     "text": [
      "Sum of the array is  34\n"
     ]
    }
   ],
   "source": [
    "#prg11\n",
    "#to find sum of array#method1\n",
    "def _sum(arr):\n",
    "       \n",
    "    sum=0 #to store the sum\n",
    "      \n",
    "    for i in arr:#iterate array\n",
    "        sum = sum + i\n",
    "    \n",
    "    return(sum) \n",
    " \n",
    "# input values to list \n",
    "arr = [12, 3, 4, 15] \n",
    "#function call  \n",
    " \n",
    "# display sum \n",
    "print ('Sum of the array is ',_sum(arr)) \n"
   ]
  },
  {
   "cell_type": "code",
   "execution_count": 19,
   "id": "4437cfb2",
   "metadata": {},
   "outputs": [
    {
     "name": "stdout",
     "output_type": "stream",
     "text": [
      "Sum of the array is  34\n"
     ]
    }
   ],
   "source": [
    "arr = [12, 3, 4, 15]#method2 using inbuilt fun\n",
    "ans = sum(arr)\n",
    "  \n",
    "# display sum\n",
    "print ('Sum of the array is ',ans)\n",
    " "
   ]
  },
  {
   "cell_type": "code",
   "execution_count": 28,
   "id": "18eab1d4",
   "metadata": {},
   "outputs": [
    {
     "name": "stdout",
     "output_type": "stream",
     "text": [
      "largest number is: 70\n"
     ]
    }
   ],
   "source": [
    "#prg12\n",
    "#FIND LARGEST NUMBER IN ARRAY\n",
    "def largest(arr,n):\n",
    "    \n",
    "    max = arr[0]#assigned o index is max\n",
    "    for i in range (1,n):#iterating fdrom index1 to n\n",
    "        if arr[i]> max:\n",
    "            max = arr[i]\n",
    "    return max\n",
    "arr = [10,50,70,40,30]\n",
    "n =len(arr)\n",
    "print(\"largest number is:\",largest(arr,n))\n",
    "    \n",
    "    \n",
    "    "
   ]
  },
  {
   "cell_type": "code",
   "execution_count": 38,
   "id": "db9380d8",
   "metadata": {},
   "outputs": [
    {
     "name": "stdout",
     "output_type": "stream",
     "text": [
      "2\n"
     ]
    }
   ],
   "source": [
    "#prg 13\n",
    "#remainder of array#not clear having doubt\n",
    "array= [100,10,5,25,35,14]\n",
    "n=len(array)\n",
    "rem =0\n",
    "mul =1\n",
    "for i in range(1,n):\n",
    "    rem = array[i]%n\n",
    "    mul=mul*rem\n",
    "rem1=mul%n\n",
    "print(rem1)\n"
   ]
  },
  {
   "cell_type": "code",
   "execution_count": 44,
   "id": "1050c7bf",
   "metadata": {},
   "outputs": [
    {
     "name": "stdout",
     "output_type": "stream",
     "text": [
      "[50, 20, 10, 70]\n"
     ]
    }
   ],
   "source": [
    "#prg14\n",
    "#lswap two elements#method1\n",
    "\n",
    "def swap_pos(list,p1,p2):\n",
    "    list[p1],list[p2]=list[p2],list[p1]\n",
    "    return list\n",
    "\n",
    "list=[10,20,50,70]\n",
    "p1,p2=0,2\n",
    "print(swap_pos(list,p1,p2))\n",
    " \n"
   ]
  },
  {
   "cell_type": "code",
   "execution_count": 48,
   "id": "7df83bb7",
   "metadata": {},
   "outputs": [
    {
     "name": "stdout",
     "output_type": "stream",
     "text": [
      "[10, 40, 30, 20]\n"
     ]
    }
   ],
   "source": [
    "#method2\n",
    "def swp_Pos(list,p1,p2):\n",
    "    get = list[p1],list[p2]\n",
    "    list[p2],list[p1] = get\n",
    "    return list\n",
    "list = [10,20,30,40]\n",
    "p1,p2=1,3\n",
    "print(swap_pos(list,p1,p2))\n",
    "\n",
    "    "
   ]
  },
  {
   "cell_type": "code",
   "execution_count": 51,
   "id": "1d8e3673",
   "metadata": {},
   "outputs": [
    {
     "name": "stdout",
     "output_type": "stream",
     "text": [
      "the input list is [19, 57, 89, 34, 12, 11, 45]\n",
      "the length of the list is 7\n"
     ]
    }
   ],
   "source": [
    "#prg15\n",
    "#length of list#method1\n",
    "list1= [19,57,89,34,12,11,45]\n",
    "print(\"the input list is\",list1)\n",
    "#using loop\n",
    "c=0#for storing count\n",
    "for i in list1:\n",
    "    c=c+1\n",
    "print(\"the length of the list is\",c)\n",
    "      "
   ]
  },
  {
   "cell_type": "code",
   "execution_count": 64,
   "id": "416249c9",
   "metadata": {},
   "outputs": [
    {
     "name": "stdout",
     "output_type": "stream",
     "text": [
      "the length of the list is: 4\n"
     ]
    }
   ],
   "source": [
    "#method2 using len()\n",
    "a=[]\n",
    "a.append(\"hi\")\n",
    "a.append(\"welcome\")\n",
    "a.append(\"to\")\n",
    "a.append(\"python\")\n",
    "res = len(a)\n",
    "print(\"the length of the list is:\",res)\n"
   ]
  },
  {
   "cell_type": "code",
   "execution_count": 65,
   "id": "9b5827f6",
   "metadata": {},
   "outputs": [
    {
     "name": "stdout",
     "output_type": "stream",
     "text": [
      "The length of list is:  3\n"
     ]
    }
   ],
   "source": [
    "#method3\n",
    "n = len([10, 20, 30])\n",
    "print(\"The length of list is: \", n)\n"
   ]
  },
  {
   "cell_type": "code",
   "execution_count": 75,
   "id": "47fc68c8",
   "metadata": {},
   "outputs": [
    {
     "name": "stdout",
     "output_type": "stream",
     "text": [
      "the 4 is present\n",
      "elments exists\n",
      "4 is present in set\n",
      "the 6 is present\n"
     ]
    }
   ],
   "source": [
    "#prg16\n",
    "#check ements inlist\n",
    "#method1\n",
    "list=[1,6,3,5,3,4]\n",
    "if(4 in list):\n",
    "    print(\"the 4 is present\")\n",
    "#method2\n",
    "for i in list:\n",
    "    if i==4:\n",
    "        print(\"elments exists\")\n",
    "#method3 usingset and in\n",
    "list1=set(list)\n",
    "if (4 in list1):\n",
    "    print(\"4 is present in set\")\n",
    "#method4 using count method\n",
    "count1 = list.count(6)\n",
    "if count1>0:\n",
    "    print(\"the 6 is present\")\n",
    "\n"
   ]
  },
  {
   "cell_type": "code",
   "execution_count": 85,
   "id": "8e9d3126",
   "metadata": {},
   "outputs": [
    {
     "name": "stdout",
     "output_type": "stream",
     "text": [
      "[]\n",
      "[] []\n",
      "[3, 5, 6, 1, 6]\n",
      "[]\n"
     ]
    }
   ],
   "source": [
    "#prg17\n",
    "#list clear method#using builtin fun\n",
    "list=[20,30,40,11,34,56]\n",
    "list.clear()\n",
    "print(list)\n",
    "\n",
    "#method2\n",
    "l1 = [1,2,3]\n",
    "l2=[3,5,7,9]\n",
    "l1.clear()\n",
    "l2=[]#l2 clear using assigning method\n",
    "print(l1,l2)\n",
    "#method3\n",
    "l =[3,5,6,1,6]\n",
    "list *= 0\n",
    "print(l)\n",
    "#method4 using del\n",
    "list1=[3,9,4,6,3]\n",
    "del list1[:]\n",
    "print(list1)\n"
   ]
  },
  {
   "cell_type": "code",
   "execution_count": 1,
   "id": "7a577a15",
   "metadata": {},
   "outputs": [
    {
     "name": "stdout",
     "output_type": "stream",
     "text": [
      "[15, 14, 13, 12, 11, 10]\n",
      "[15, 14, 13, 12, 11, 10]\n",
      "[15, 14, 13, 12, 11, 10]\n"
     ]
    }
   ],
   "source": [
    "#prg18 reverese a list\n",
    "def Reverse(lst):\n",
    "    return [ele for ele in reversed(lst)]\n",
    "lst = [10, 11, 12, 13, 14, 15]\n",
    "print(Reverse(lst))\n",
    "#method2\n",
    "lst = [10, 11, 12, 13, 14, 15]\n",
    "rev = lst.reverse()#usong built in fun\n",
    "print(lst)\n",
    "#method3 using slicing concept\n",
    "lst1=[10, 11, 12, 13, 14, 15]\n",
    "nw_lst1=lst1[::-1]\n",
    "print(nw_lst1)\n"
   ]
  },
  {
   "cell_type": "code",
   "execution_count": null,
   "id": "b43e46b9",
   "metadata": {},
   "outputs": [],
   "source": []
  },
  {
   "cell_type": "code",
   "execution_count": 2,
   "id": "1a311253",
   "metadata": {},
   "outputs": [
    {
     "name": "stdout",
     "output_type": "stream",
     "text": [
      "sum of the list is 74\n",
      "sum of the list is 74\n",
      "sum of the list is 74\n"
     ]
    }
   ],
   "source": [
    "#prg19\n",
    "#Python program to find sum of elements in list\n",
    "sum1=0\n",
    "list1 = [11, 5, 17, 18, 23]\n",
    "n = len(list1)\n",
    "for ele in range(0,n) :\n",
    "    sum1 = sum1+list1[ele]\n",
    "print(\"sum of the list is\",sum1)\n",
    "\n",
    "#method2 using while loop\n",
    "list1 = [11, 5, 17, 18, 23]\n",
    "total=0\n",
    "i=0\n",
    "while i<len(list1):\n",
    "    total = total+list1[i]\n",
    "    i+=1\n",
    "print(\"sum of the list is\",total)\n",
    "\n",
    "#method3 using built in fun\n",
    "list1 = [11, 5, 17, 18, 23]\n",
    "print(\"sum of the list is\",sum(list1))\n",
    "\n"
   ]
  },
  {
   "cell_type": "code",
   "execution_count": null,
   "id": "c8114641",
   "metadata": {},
   "outputs": [],
   "source": [
    "#prg20 multiply the list\n",
    "def multiply(mylist):\n",
    "    mul=1\n",
    "    for i in mylist:\n",
    "        mul = mul*i\n",
    "    return mul\n",
    "\n",
    "list1 = [1, 2, 3]\n",
    "list2 = [3, 2, 4]\n",
    "print(multiply(list1))\n",
    "print(multiply(list2))\n",
    "#method2\n",
    "# list using lambda function and reduce()\n",
    " \n",
    "from functools import reduce\n",
    "list1 = [1, 2, 3]\n",
    "list2 = [3, 2, 4]\n",
    "\n",
    "result1 = reduce((lambda x, y: x * y), list1)#reduce used like argument in fun call\n",
    "result2 = reduce((lambda x, y: x * y), list2)\n",
    "print(result1)\n",
    "print(result2)\n",
    "\n",
    "#method3\n",
    "import math#using module\n",
    "list1 = [1, 2, 3]\n",
    "list2 = [3, 2, 4]\n",
    "\n",
    "result1 = math.prod(list1)\n",
    "result2 = math.prod(list2)\n",
    "print(result1)\n",
    "print(result2)\n",
    "\n"
   ]
  },
  {
   "cell_type": "code",
   "execution_count": null,
   "id": "e3a62e3a",
   "metadata": {},
   "outputs": [],
   "source": [
    "#prg21#find smallest no using sort method\n",
    "list1 = [10, 20, 4, 45, 99]\n",
    "list1.sort()\n",
    "small = list1[:1]#slicing method\n",
    "print(\"the small number is:\",small)\n",
    "\n",
    "#method2#using built in fun\n",
    "list1 = [10, 20, 1, 45, 99]\n",
    "small = min(list1)\n",
    "print(\"the small number is:\",small)\n",
    "\n",
    "#method 3\n",
    "lst=[]\n",
    "n=int(input(\"enter the no of element\"))\n",
    "for i in range(1,n+1):\n",
    "    int1 = int(input())\n",
    "    lst.append(int1)\n",
    "print(\"the small number is:\",min(lst))\n",
    "\n",
    "\n",
    " "
   ]
  },
  {
   "cell_type": "code",
   "execution_count": 2,
   "id": "252a396c",
   "metadata": {},
   "outputs": [
    {
     "name": "stdout",
     "output_type": "stream",
     "text": [
      "the largest number is: [99]\n",
      "the largest number is: 99\n",
      "enter the no of element4\n",
      "1\n",
      "3\n",
      "7\n",
      "9\n",
      "the largest number is: 4\n"
     ]
    }
   ],
   "source": [
    "#prg22#find largest no using sort method\n",
    "list1 = [10, 20, 4, 45, 99]\n",
    "list1.sort()\n",
    "large = list1[-1:]#slicing method\n",
    "print(\"the largest number is:\",large)\n",
    "\n",
    "#method2#using built in fun\n",
    "list1 = [10, 20, 1, 45, 99]\n",
    "large = max(list1)\n",
    "print(\"the largest number is:\",large)\n",
    "\n",
    "#method 3#list appen method\n",
    "lst=[]\n",
    "n=int(input(\"enter the no of element\"))\n",
    "for i in range(1,n+1):\n",
    "    int1 = int(input())\n",
    "    lst.append(i)\n",
    "print(\"the largest number is:\",max(lst))\n"
   ]
  },
  {
   "cell_type": "code",
   "execution_count": 2,
   "id": "d60f62cf",
   "metadata": {},
   "outputs": [
    {
     "name": "stdout",
     "output_type": "stream",
     "text": [
      "10 4 66 "
     ]
    }
   ],
   "source": [
    "#prg 23\n",
    "#method1\n",
    "# Python program to print Even Numbers in a List\n",
    " \n",
    "# list of numbers\n",
    "list1 = [10, 21, 4, 45, 66, 93]\n",
    "for i in list1:\n",
    "    if i%2==0:\n",
    "        print(i,end=' ')\n",
    "\n"
   ]
  },
  {
   "cell_type": "code",
   "execution_count": 1,
   "id": "c33dcef4",
   "metadata": {},
   "outputs": [
    {
     "name": "stdout",
     "output_type": "stream",
     "text": [
      "Even numbers in the list:  [10, 4, 66]\n"
     ]
    }
   ],
   "source": [
    "#method2\n",
    "list1 = [10, 21, 4, 45, 66, 93]\n",
    " \n",
    "# using list comprehension\n",
    "even_nos = [num for num in list1 if num % 2 == 0]\n",
    " \n",
    "print(\"Even numbers in the list: \", even_nos)\n",
    "\n"
   ]
  },
  {
   "cell_type": "code",
   "execution_count": null,
   "id": "150a1092",
   "metadata": {},
   "outputs": [
    {
     "name": "stdout",
     "output_type": "stream",
     "text": [
      "10 24 4 "
     ]
    }
   ],
   "source": [
    "#method3\n",
    "list1 = [10, 24, 4, 45, 66, 93]\n",
    "num = 0\n",
    " \n",
    "# using while loop\n",
    "while(num < len(list1)):\n",
    " \n",
    "     if list1[num] % 2 == 0:\n",
    "        print(list1[num], end=\" \")\n",
    "        num += 1\n"
   ]
  },
  {
   "cell_type": "code",
   "execution_count": null,
   "id": "0ff55604",
   "metadata": {},
   "outputs": [],
   "source": [
    "# method4\n",
    "list1 = [10, 21, 4, 45, 66, 93, 11]\n",
    "even_nos = list(filter(lambda x: (x % 2 == 0), list1))#using lamda\n",
    " \n",
    "print(\"Even numbers in the list: \", even_nos)\n"
   ]
  },
  {
   "cell_type": "code",
   "execution_count": null,
   "id": "513d0c24",
   "metadata": {},
   "outputs": [],
   "source": []
  },
  {
   "cell_type": "code",
   "execution_count": null,
   "id": "5851c835",
   "metadata": {},
   "outputs": [],
   "source": []
  }
 ],
 "metadata": {
  "kernelspec": {
   "display_name": "Python 3 (ipykernel)",
   "language": "python",
   "name": "python3"
  },
  "language_info": {
   "codemirror_mode": {
    "name": "ipython",
    "version": 3
   },
   "file_extension": ".py",
   "mimetype": "text/x-python",
   "name": "python",
   "nbconvert_exporter": "python",
   "pygments_lexer": "ipython3",
   "version": "3.8.7"
  }
 },
 "nbformat": 4,
 "nbformat_minor": 5
}
