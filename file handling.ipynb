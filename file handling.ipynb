{
 "cells": [
  {
   "cell_type": "code",
   "execution_count": 1,
   "id": "eec2bacf",
   "metadata": {},
   "outputs": [
    {
     "name": "stdout",
     "output_type": "stream",
     "text": [
      "Hi welcome to python\n",
      "Python is very easy to learn\n",
      "Python is an interpreted\n",
      "object-oriented and high-level programming language\n",
      "In python debugging is very easy\n",
      "\n"
     ]
    }
   ],
   "source": [
    "#prg1\n",
    "#reading a file #(readmode =\"r\")#pointer at beginning \n",
    "#method1\n",
    "f = open(\"filecheck.txt\")\n",
    "print(f.read())\n",
    "f.close()"
   ]
  },
  {
   "cell_type": "code",
   "execution_count": 2,
   "id": "423a2435",
   "metadata": {},
   "outputs": [
    {
     "name": "stdout",
     "output_type": "stream",
     "text": [
      "Hi welcome to python\n",
      "Python is very easy to learn\n",
      "Python is an interpreted\n",
      "object-oriented and high-level programming language\n",
      "In python debugging is very easy\n",
      "\n"
     ]
    }
   ],
   "source": [
    "#method2\n",
    "f = open(\"filecheck.txt\",\"r\")\n",
    "print(f.read())\n",
    "f.close()\n",
    "         "
   ]
  },
  {
   "cell_type": "code",
   "execution_count": 15,
   "id": "edbfee6a",
   "metadata": {},
   "outputs": [
    {
     "name": "stdout",
     "output_type": "stream",
     "text": [
      "Hi welcome\n",
      " to py\n"
     ]
    }
   ],
   "source": [
    "#prg2\n",
    "# prg to read only selective characters\n",
    "f = open(\"filecheck.txt\")\n",
    "print(f.read(10))#it will print 10 characters from file pointer at beginning\n",
    "print(f.read(6))#now pointer at 10 pos until u close the file\n",
    "f.close()"
   ]
  },
  {
   "cell_type": "code",
   "execution_count": 3,
   "id": "41c580cd",
   "metadata": {},
   "outputs": [
    {
     "name": "stdout",
     "output_type": "stream",
     "text": [
      "Hi welcome to python\n",
      "\n",
      "Python is very easy to learn\n",
      "\n",
      "Python is an interpreted\n",
      "\n"
     ]
    }
   ],
   "source": [
    "#prg3\n",
    "#prg to read line\n",
    "f = open(\"filecheck.txt\")\n",
    "print(f.readline())#it will print line by line\n",
    "print(f.readline())\n",
    "print(f.readline())\n",
    "f.close()\n"
   ]
  },
  {
   "cell_type": "code",
   "execution_count": 4,
   "id": "ae6cebe3",
   "metadata": {},
   "outputs": [
    {
     "name": "stdout",
     "output_type": "stream",
     "text": [
      "Hi welcome to python\n",
      "\n",
      "Python is very easy to learn\n",
      "\n",
      "Python is an interpreted\n",
      "\n",
      "object-oriented and high-level programming language\n",
      "\n",
      "In python debugging is very easy\n",
      "\n"
     ]
    }
   ],
   "source": [
    "#prg4 to read all lines using for loop\n",
    "f=open(\"filecheck.txt\")\n",
    "for i in f:\n",
    "    print(i)\n",
    "f.close()"
   ]
  },
  {
   "cell_type": "code",
   "execution_count": 20,
   "id": "98c1a299",
   "metadata": {},
   "outputs": [
    {
     "name": "stdout",
     "output_type": "stream",
     "text": [
      "Hi welcome to python\n",
      "Python is very easy to learn\n",
      "Python is an interpreted\n",
      "object-oriented and high-level programming language\n",
      "In python debugging is very easy\n",
      "\n"
     ]
    }
   ],
   "source": [
    "with open(\"filecheck.txt\", \"r\") as f:#another method to open the file\n",
    "    print(f.read())\n",
    "f.close()#with open no need to use f.close it automatically close the file"
   ]
  },
  {
   "cell_type": "code",
   "execution_count": 19,
   "id": "1503c58d",
   "metadata": {},
   "outputs": [],
   "source": [
    "f.close()#to close the file"
   ]
  },
  {
   "cell_type": "code",
   "execution_count": 5,
   "id": "52ff8fa1",
   "metadata": {},
   "outputs": [],
   "source": [
    "#prg5\n",
    "#append method#\"a\" denotes append(add) file\n",
    "f=open(\"filecheck1.txt\",\"a\")#it will create a file if its not available\n",
    "f.write (\"this is from jupyter\")#in append method pointer will be at end\n",
    "f.write(\"hi\")\n",
    "f.write(\"created through append method\")\n",
    "f.write(\"thanks\")\n",
    "\n",
    "f.close()"
   ]
  },
  {
   "cell_type": "code",
   "execution_count": 6,
   "id": "cfd06aeb",
   "metadata": {},
   "outputs": [],
   "source": [
    "#prg6#\"w\"denotes write the file pointer at beginning\n",
    "f=open(\"filecheck1.txt\",\"w\")#it will create a file if its not available\n",
    "f.write (\"this is from jupyter\")#this method will overwrite the existing file\n",
    "f.write(\"hi\")\n",
    "\n",
    "f.close()"
   ]
  },
  {
   "cell_type": "code",
   "execution_count": 7,
   "id": "8d1db0df",
   "metadata": {},
   "outputs": [],
   "source": [
    "#prg7#write lines through list\n",
    "f=open(\"filecheck1.txt\",\"w\")\n",
    "list1=[\"hello\",\"welcome\",\"to\",\"python\",\"programs\"]\n",
    "f.writelines(list1)\n",
    "f.writelines(list1)\n",
    "f.writelines(list1)\n",
    "f.writelines(list1)\n",
    "\n",
    "f.close()"
   ]
  },
  {
   "cell_type": "code",
   "execution_count": 8,
   "id": "2005b83c",
   "metadata": {},
   "outputs": [],
   "source": [
    "#prg8\n",
    "#create a new file\n",
    "f = open(\"filechecknew.txt\",\"x\")\n",
    "f.close()"
   ]
  },
  {
   "cell_type": "code",
   "execution_count": 12,
   "id": "5d1a710b",
   "metadata": {},
   "outputs": [],
   "source": [
    "#prg9#delete file\n",
    "import os\n",
    "os.remove(\"filechecknew.txt\")\n"
   ]
  },
  {
   "cell_type": "code",
   "execution_count": 15,
   "id": "d9ab2c51",
   "metadata": {},
   "outputs": [
    {
     "name": "stdout",
     "output_type": "stream",
     "text": [
      "The file does not exists\n"
     ]
    }
   ],
   "source": [
    "#prg10# checking the file to avoid error\n",
    "if os.path.exists(\"filechecknew.txt\"):\n",
    "    os.remove(\"filechecknew.txt\")\n",
    "else:\n",
    "    print(\"The file does not exists\")"
   ]
  },
  {
   "cell_type": "code",
   "execution_count": 17,
   "id": "99bd738f",
   "metadata": {},
   "outputs": [
    {
     "name": "stdout",
     "output_type": "stream",
     "text": [
      "True\n"
     ]
    }
   ],
   "source": [
    "\n",
    "print(os.path.exists(\"filecheck.txt\"))"
   ]
  },
  {
   "cell_type": "code",
   "execution_count": 3,
   "id": "7cf725cd",
   "metadata": {},
   "outputs": [
    {
     "name": "stdout",
     "output_type": "stream",
     "text": [
      "C:\\Users\\Selvi\\Desktop\n",
      "b'C:\\\\Users\\\\Selvi\\\\Desktop'\n"
     ]
    }
   ],
   "source": [
    "#prg11\n",
    "#how to get current directory\n",
    "import os\n",
    "os.getcwd()\n",
    "print(os.getcwd())#it will print current working directory\n",
    "print(os.getcwdb())#will print current working directory as bytes\n",
    "\n"
   ]
  },
  {
   "cell_type": "code",
   "execution_count": 5,
   "id": "863cd79e",
   "metadata": {},
   "outputs": [
    {
     "name": "stdout",
     "output_type": "stream",
     "text": [
      "C:\\Users\\Selvi\\Desktop\\jupyterprg\n"
     ]
    }
   ],
   "source": [
    "#prg12\n",
    "#change directory\n",
    "os.chdir(\"C:\\\\Users\\\\Selvi\\\\Desktop\\\\jupyterprg\")\n",
    "print(os.getcwd())"
   ]
  },
  {
   "cell_type": "code",
   "execution_count": 6,
   "id": "909db301",
   "metadata": {},
   "outputs": [
    {
     "data": {
      "text/plain": [
       "['exception.ipynb',\n",
       " 'Home Page - Select or create a notebook.htm',\n",
       " 'Home Page - Select or create a notebook_files',\n",
       " 'python.geeks.p2(2).ipynb',\n",
       " 'test.ipynb']"
      ]
     },
     "execution_count": 6,
     "metadata": {},
     "output_type": "execute_result"
    }
   ],
   "source": [
    "os.listdir()"
   ]
  },
  {
   "cell_type": "code",
   "execution_count": 3,
   "id": "88ac2b8a",
   "metadata": {},
   "outputs": [
    {
     "data": {
      "text/plain": [
       "['test']"
      ]
     },
     "execution_count": 3,
     "metadata": {},
     "output_type": "execute_result"
    }
   ],
   "source": [
    "#prg13\n",
    "import os\n",
    "os.mkdir('test1')\n",
    "\n",
    "os.listdir()\n",
    "['test']"
   ]
  },
  {
   "cell_type": "code",
   "execution_count": 4,
   "id": "39071647",
   "metadata": {},
   "outputs": [
    {
     "data": {
      "text/plain": [
       "['test1']"
      ]
     },
     "execution_count": 4,
     "metadata": {},
     "output_type": "execute_result"
    }
   ],
   "source": [
    "#rename \n",
    "import os\n",
    "os.rename(\"test1\",\"new_one\")\n",
    "os.listdir()\n",
    "[\"test1\"]"
   ]
  },
  {
   "cell_type": "code",
   "execution_count": 5,
   "id": "f81427b2",
   "metadata": {},
   "outputs": [
    {
     "ename": "PermissionError",
     "evalue": "[WinError 5] Access is denied: 'new_one'",
     "output_type": "error",
     "traceback": [
      "\u001b[1;31m---------------------------------------------------------------------------\u001b[0m",
      "\u001b[1;31mPermissionError\u001b[0m                           Traceback (most recent call last)",
      "Input \u001b[1;32mIn [5]\u001b[0m, in \u001b[0;36m<module>\u001b[1;34m\u001b[0m\n\u001b[0;32m      1\u001b[0m \u001b[38;5;66;03m#prg15\u001b[39;00m\n\u001b[0;32m      2\u001b[0m \u001b[38;5;66;03m#remove directory\u001b[39;00m\n\u001b[1;32m----> 3\u001b[0m \u001b[43mos\u001b[49m\u001b[38;5;241;43m.\u001b[39;49m\u001b[43mremove\u001b[49m\u001b[43m(\u001b[49m\u001b[38;5;124;43m\"\u001b[39;49m\u001b[38;5;124;43mnew_one\u001b[39;49m\u001b[38;5;124;43m\"\u001b[39;49m\u001b[43m)\u001b[49m\n",
      "\u001b[1;31mPermissionError\u001b[0m: [WinError 5] Access is denied: 'new_one'"
     ]
    }
   ],
   "source": [
    "#prg15\n",
    "#remove directory\n",
    "os.remove(\"new_one\")"
   ]
  },
  {
   "cell_type": "code",
   "execution_count": null,
   "id": "4e5212ba",
   "metadata": {},
   "outputs": [],
   "source": []
  }
 ],
 "metadata": {
  "kernelspec": {
   "display_name": "Python 3 (ipykernel)",
   "language": "python",
   "name": "python3"
  },
  "language_info": {
   "codemirror_mode": {
    "name": "ipython",
    "version": 3
   },
   "file_extension": ".py",
   "mimetype": "text/x-python",
   "name": "python",
   "nbconvert_exporter": "python",
   "pygments_lexer": "ipython3",
   "version": "3.8.7"
  }
 },
 "nbformat": 4,
 "nbformat_minor": 5
}
