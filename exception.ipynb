{
 "cells": [
  {
   "cell_type": "code",
   "execution_count": 2,
   "id": "42324fe5",
   "metadata": {},
   "outputs": [
    {
     "name": "stdout",
     "output_type": "stream",
     "text": [
      "raising arithmetic error\n"
     ]
    }
   ],
   "source": [
    "#prg1#arithmetic error\n",
    "a=10\n",
    "b=0\n",
    "try:\n",
    "    print(a/b)\n",
    "except ArithmeticError:\n",
    "    print(\"raising arithmetic error\")\n",
    "else:\n",
    "    print(\"program executed\")\n",
    "\n",
    "\n"
   ]
  },
  {
   "cell_type": "code",
   "execution_count": 3,
   "id": "af87d6e2",
   "metadata": {},
   "outputs": [
    {
     "name": "stdout",
     "output_type": "stream",
     "text": [
      "index is out of range\n"
     ]
    }
   ],
   "source": [
    "#prg2#look up error(index error)\n",
    "a=[1,2,3]\n",
    "\n",
    "try:\n",
    "    print(a[3])\n",
    "except LookupError:\n",
    "    print(\"index is out of range\")\n",
    "else:\n",
    "    print(\"program executed\")\n",
    "\n",
    "\n"
   ]
  },
  {
   "cell_type": "code",
   "execution_count": 3,
   "id": "d2bc7996",
   "metadata": {},
   "outputs": [
    {
     "name": "stdout",
     "output_type": "stream",
     "text": [
      "your input is empty,please pass some values\n",
      "Average of mark1: None\n"
     ]
    }
   ],
   "source": [
    "#prg3 #assert error\n",
    "def avg(marks):\n",
    "    try:\n",
    "        assert len(marks) != 0\n",
    "        return sum(marks)/len(marks)\n",
    "    except AssertionError:\n",
    "        print(\"your input is empty,please pass some values\")\n",
    "mark1 = []#we r passing empty list this will raise assertion errror\n",
    "print(\"Average of mark1:\",avg(mark1))\n",
    "\n"
   ]
  },
  {
   "cell_type": "code",
   "execution_count": 4,
   "id": "fc06bb8f",
   "metadata": {},
   "outputs": [
    {
     "name": "stdout",
     "output_type": "stream",
     "text": [
      "cannot add value to an int number\n"
     ]
    }
   ],
   "source": [
    "#prg4\n",
    "#attribute arror#ex1\n",
    "x=10\n",
    "try:\n",
    "    x.append(10)#cannot append val to integer it will raise a attibute error\n",
    "except AttributeError:\n",
    "    print(\"cannot add value to an int number\")\n",
    "    "
   ]
  },
  {
   "cell_type": "code",
   "execution_count": 6,
   "id": "d349c373",
   "metadata": {},
   "outputs": [
    {
     "name": "stdout",
     "output_type": "stream",
     "text": [
      "please select appropiate method for set\n"
     ]
    }
   ],
   "source": [
    "#prg4\n",
    "#attribute arror#ex2\n",
    "set1=set()\n",
    "try:\n",
    "    set1.append(10)#in set method we have to use add instead of append method\n",
    "except AttributeError:\n",
    "    print(\"please select appropiate method for set to add val\")\n",
    "   "
   ]
  },
  {
   "cell_type": "code",
   "execution_count": 6,
   "id": "07245258",
   "metadata": {},
   "outputs": [
    {
     "name": "stdout",
     "output_type": "stream",
     "text": [
      "\n"
     ]
    },
    {
     "ename": "ValueError",
     "evalue": "invalid literal for int() with base 10: ''",
     "output_type": "error",
     "traceback": [
      "\u001b[1;31m---------------------------------------------------------------------------\u001b[0m",
      "\u001b[1;31mValueError\u001b[0m                                Traceback (most recent call last)",
      "Input \u001b[1;32mIn [6]\u001b[0m, in \u001b[0;36m<module>\u001b[1;34m\u001b[0m\n\u001b[0;32m      1\u001b[0m \u001b[38;5;66;03m#prg5\u001b[39;00m\n\u001b[0;32m      2\u001b[0m \u001b[38;5;66;03m#EOF error\u001b[39;00m\n\u001b[0;32m      3\u001b[0m \u001b[38;5;28;01mtry\u001b[39;00m:\n\u001b[1;32m----> 4\u001b[0m     n \u001b[38;5;241m=\u001b[39m \u001b[38;5;28;43mint\u001b[39;49m\u001b[43m(\u001b[49m\u001b[38;5;28;43minput\u001b[39;49m\u001b[43m(\u001b[49m\u001b[43m)\u001b[49m\u001b[43m)\u001b[49m\n\u001b[0;32m      5\u001b[0m     \u001b[38;5;28mprint\u001b[39m(n \u001b[38;5;241m*\u001b[39m \u001b[38;5;241m10\u001b[39m)\n\u001b[0;32m      6\u001b[0m \u001b[38;5;28;01mexcept\u001b[39;00m \u001b[38;5;167;01mEOFError\u001b[39;00m \u001b[38;5;28;01mas\u001b[39;00m e:\n",
      "\u001b[1;31mValueError\u001b[0m: invalid literal for int() with base 10: ''"
     ]
    }
   ],
   "source": [
    "#prg5\n",
    "#EOF error\n",
    "try:\n",
    "    n = int(input())\n",
    "    print(n * 10)\n",
    "except EOFError as e:\n",
    "    print(e)"
   ]
  },
  {
   "cell_type": "code",
   "execution_count": 3,
   "id": "2009b306",
   "metadata": {},
   "outputs": [
    {
     "name": "stdout",
     "output_type": "stream",
     "text": [
      "enter the valoid module name\n"
     ]
    }
   ],
   "source": [
    "#prg6\n",
    "#import error\n",
    "try:\n",
    "    import module_does_not_exist\n",
    "except ModuleNotFoundError:\n",
    "    print(\"enter the valoid module name\")\n",
    "\n"
   ]
  },
  {
   "cell_type": "code",
   "execution_count": 9,
   "id": "43d0f154",
   "metadata": {},
   "outputs": [
    {
     "name": "stdout",
     "output_type": "stream",
     "text": [
      "can access only key available in dictionary only\n"
     ]
    }
   ],
   "source": [
    "#prg7\n",
    "#exception KeyError\n",
    "#A KeyError is raised when a mapping key is not found in the set of existing keys.\n",
    "\n",
    "my_dict= { 'a':1, 'b':2 }\n",
    "try:\n",
    "    print (my_dict['c'])\n",
    "except KeyError:\n",
    "    print(\"can access only key available in dictionary only\")\n",
    "\n",
    "\n"
   ]
  },
  {
   "cell_type": "code",
   "execution_count": null,
   "id": "20592621",
   "metadata": {},
   "outputs": [],
   "source": [
    "#prg8\n",
    "#exception MemoryError\n",
    "#This error is raised when an operation runs out of memory.\n",
    "\n",
    "def fact(a):\n",
    "    factors = []\n",
    "    try:\n",
    "        for i in range(1, a+1):\n",
    "            if a%i == 0:\n",
    "                factors.append(i)\n",
    "        return factors \n",
    "    except MemoryError:\n",
    "        print(\"please give number in lesser digit\")\n",
    "  \n",
    "num = 6000774433333\n",
    "print (fact(num))\n",
    "\n"
   ]
  },
  {
   "cell_type": "code",
   "execution_count": 1,
   "id": "284c764d",
   "metadata": {},
   "outputs": [
    {
     "name": "stdout",
     "output_type": "stream",
     "text": [
      "given name ans not defined\n"
     ]
    }
   ],
   "source": [
    "#prg8#name error\n",
    "def funct():\n",
    "    try:\n",
    "        print(ans)\n",
    "    except NameError:\n",
    "        print(\"given name ans not defined\")\n",
    "funct()\n"
   ]
  },
  {
   "cell_type": "code",
   "execution_count": 2,
   "id": "0d13f07c",
   "metadata": {},
   "outputs": [
    {
     "name": "stdout",
     "output_type": "stream",
     "text": [
      "cannot concadenate tuple and string\n"
     ]
    }
   ],
   "source": [
    "#prg9\n",
    "#type error\n",
    "try:\n",
    "    arr = ('tuple', ) + 'string'\n",
    "    print (arr)\n",
    "except TypeError:\n",
    "    print(\"cannot concadenate tuple and string\")\n",
    "    \n",
    "    \n",
    "\n"
   ]
  },
  {
   "cell_type": "code",
   "execution_count": 5,
   "id": "f73e7f89",
   "metadata": {},
   "outputs": [
    {
     "name": "stdout",
     "output_type": "stream",
     "text": [
      "local variable not assigned before caling the fun\n"
     ]
    }
   ],
   "source": [
    "#prg10#UnboundLocalError\n",
    "a=10\n",
    "def unbound_local():\n",
    "    try:\n",
    "        print(a)#here we r printing \"a\" before assigning \n",
    "        a=20\n",
    "        \n",
    "    except UnboundLocalError:\n",
    "        print(\"local variable not assigned before caling the fun\")\n",
    "        \n",
    "unbound_local() \n"
   ]
  },
  {
   "cell_type": "code",
   "execution_count": 6,
   "id": "92def635",
   "metadata": {},
   "outputs": [
    {
     "name": "stdout",
     "output_type": "stream",
     "text": [
      "cannot pass string in int\n"
     ]
    }
   ],
   "source": [
    "#prg11#valueError\n",
    "try:\n",
    "    num=int(\"string\")\n",
    "except ValueError :\n",
    "    print(\"cannot pass string in int\")\n",
    "    "
   ]
  },
  {
   "cell_type": "code",
   "execution_count": 22,
   "id": "293181a5",
   "metadata": {},
   "outputs": [
    {
     "name": "stdout",
     "output_type": "stream",
     "text": [
      "Cannot divide a number by  Zero\n"
     ]
    }
   ],
   "source": [
    "#prg12#zero division Error\n",
    "a=10\n",
    "b=0\n",
    "try:\n",
    "    print(a/b)\n",
    "except ZeroDivisionError :\n",
    "    print(\"Cannot divide a number by  Zero\")\n",
    "    "
   ]
  },
  {
   "cell_type": "code",
   "execution_count": null,
   "id": "0367c57e",
   "metadata": {},
   "outputs": [],
   "source": []
  },
  {
   "cell_type": "code",
   "execution_count": null,
   "id": "7efce055",
   "metadata": {},
   "outputs": [],
   "source": []
  }
 ],
 "metadata": {
  "kernelspec": {
   "display_name": "Python 3 (ipykernel)",
   "language": "python",
   "name": "python3"
  },
  "language_info": {
   "codemirror_mode": {
    "name": "ipython",
    "version": 3
   },
   "file_extension": ".py",
   "mimetype": "text/x-python",
   "name": "python",
   "nbconvert_exporter": "python",
   "pygments_lexer": "ipython3",
   "version": "3.8.7"
  }
 },
 "nbformat": 4,
 "nbformat_minor": 5
}
